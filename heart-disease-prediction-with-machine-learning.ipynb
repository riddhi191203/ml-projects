{
 "cells": [
  {
   "cell_type": "markdown",
   "id": "4ebfda32",
   "metadata": {
    "papermill": {
     "duration": 0.0588,
     "end_time": "2022-03-17T05:56:16.119390",
     "exception": false,
     "start_time": "2022-03-17T05:56:16.060590",
     "status": "completed"
    },
    "tags": []
   },
   "source": [
    "# 1.0 Predicting heart disease using machine learning\n",
    "\n",
    "This notebook looks into using various Python-based machine learning and data science libraries in an attempt to build a machine learning model capable of predicting whether or not someone has heart disease based on their medical attributes.\n",
    "\n",
    "I am going to take the following approach:\n",
    "1. Problem definition\n",
    "2. Data\n",
    "3. Evaluation\n",
    "4. Features\n",
    "5. Modelling\n",
    "6. Experimentation\n",
    "\n",
    "## 1.1 Problem Definition\n",
    "\n",
    "In a statement,\n",
    "> Given clinical parameters about a patient, can we predict whether or not they have heart disease?\n",
    "\n",
    "## 1.2 Data\n",
    "\n",
    "The original data came from the Cleavland data from the UCI Machine Learning Repository. https://archive.ics.uci.edu/ml/datasets/heart+Disease\n",
    "\n",
    "There is also a version of it available on Kaggle. https://www.kaggle.com/ronitf/heart-disease-uci\n",
    "\n",
    "## 1.3 Evaluation\n",
    "\n",
    "> If the outcome can reach 95% accuracy at predicting whether or not a patient has heart disease during the proof of concept, we'll pursue the project.\n",
    "\n",
    "## 1.4 Features\n",
    "\n",
    "Below are the details and descriptions of the data features.\n",
    "\n",
    "**Create data dictionary**\n",
    "\n",
    "1. age - age in years\n",
    "2. sex - (1 = male; 0 = female)\n",
    "3. cp - chest pain type\n",
    "    * 0: Typical angina: chest pain related decrease blood supply to the heart\n",
    "    * 1: Atypical angina: chest pain not related to heart\n",
    "    * 2: Non-anginal pain: typically esophageal spasms (non heart related)\n",
    "    * 3: Asymptomatic: chest pain not showing signs of disease\n",
    "4. trestbps - resting blood pressure (in mm Hg on admission to the hospital) anything above 130-140 is typically cause for concern\n",
    "5. chol - serum cholestoral in mg/dl\n",
    "    * serum = LDL + HDL + .2 * triglycerides\n",
    "    * above 200 is cause for concern\n",
    "6. fbs - (fasting blood sugar > 120 mg/dl) (1 = true; 0 = false)\n",
    "    * '>126' mg/dL signals diabetes\n",
    "7. restecg - resting electrocardiographic results\n",
    "    * 0: Nothing to note\n",
    "    * 1: ST-T Wave abnormality\n",
    "        * can range from mild symptoms to severe problems\n",
    "        * signals non-normal heart beat\n",
    "    * 2: Possible or definite left ventricular hypertrophy\n",
    "        * Enlarged heart's main pumping chamber\n",
    "8. thalach - maximum heart rate achieved\n",
    "9. exang - exercise induced angina (1 = yes; 0 = no)\n",
    "10. oldpeak - ST depression induced by exercise relative to rest looks at stress of heart during excercise unhealthy heart will stress more\n",
    "11. slope - the slope of the peak exercise ST segment\n",
    "    * 0: Upsloping: better heart rate with excercise (uncommon)\n",
    "    * 1: Flatsloping: minimal change (typical healthy heart)\n",
    "    * 2: Downslopins: signs of unhealthy heart\n",
    "12. ca - number of major vessels (0-3) colored by flourosopy\n",
    "    * colored vessel means the doctor can see the blood passing through\n",
    "    * the more blood movement the better (no clots)\n",
    "13. thal - thalium stress result\n",
    "    * 1,3: normal\n",
    "    * 6: fixed defect: used to be defect but ok now\n",
    "    * 7: reversable defect: no proper blood movement when excercising\n",
    "14. target - have disease or not (1=yes, 0=no) (= the predicted attribute)"
   ]
  },
  {
   "cell_type": "markdown",
   "id": "2f75cafc",
   "metadata": {
    "papermill": {
     "duration": 0.087905,
     "end_time": "2022-03-17T05:56:16.296858",
     "exception": false,
     "start_time": "2022-03-17T05:56:16.208953",
     "status": "completed"
    },
    "tags": []
   },
   "source": [
    "# 2.0 Preparing the Tools"
   ]
  },
  {
   "cell_type": "code",
   "execution_count": 1,
   "id": "d64ab460",
   "metadata": {
    "execution": {
     "iopub.execute_input": "2022-03-17T05:56:16.477667Z",
     "iopub.status.busy": "2022-03-17T05:56:16.476501Z",
     "iopub.status.idle": "2022-03-17T05:56:18.073072Z",
     "shell.execute_reply": "2022-03-17T05:56:18.072181Z",
     "shell.execute_reply.started": "2022-03-17T05:17:20.921072Z"
    },
    "papermill": {
     "duration": 1.688472,
     "end_time": "2022-03-17T05:56:18.073236",
     "exception": false,
     "start_time": "2022-03-17T05:56:16.384764",
     "status": "completed"
    },
    "tags": []
   },
   "outputs": [],
   "source": [
    "#!pip install sklearn\n",
    "#Import all libraries\n",
    "\n",
    "import numpy as np\n",
    "import pandas as pd\n",
    "import matplotlib.pyplot as plt\n",
    "import seaborn as sns\n",
    "\n",
    "#Inline matplotlib to view inside this notebook directly\n",
    "%matplotlib inline\n",
    "\n",
    "#Models\n",
    "from sklearn.linear_model import LogisticRegression\n",
    "from sklearn.neighbors import KNeighborsClassifier\n",
    "from sklearn.ensemble import RandomForestClassifier\n",
    "\n",
    "#Evaluation\n",
    "from sklearn.model_selection import train_test_split, cross_val_score\n",
    "from sklearn.model_selection import RandomizedSearchCV, GridSearchCV\n",
    "from sklearn.metrics import confusion_matrix, classification_report\n",
    "from sklearn.metrics import precision_score, recall_score, f1_score\n",
    "from sklearn.metrics import plot_roc_curve"
   ]
  },
  {
   "cell_type": "markdown",
   "id": "837b0810",
   "metadata": {
    "papermill": {
     "duration": 0.088731,
     "end_time": "2022-03-17T05:56:18.250532",
     "exception": false,
     "start_time": "2022-03-17T05:56:18.161801",
     "status": "completed"
    },
    "tags": []
   },
   "source": [
    "## 2.1 Load Data"
   ]
  },
  {
   "cell_type": "code",
   "execution_count": 2,
   "id": "cfc69513",
   "metadata": {
    "execution": {
     "iopub.execute_input": "2022-03-17T05:56:18.433508Z",
     "iopub.status.busy": "2022-03-17T05:56:18.432709Z",
     "iopub.status.idle": "2022-03-17T05:56:18.455213Z",
     "shell.execute_reply": "2022-03-17T05:56:18.455744Z",
     "shell.execute_reply.started": "2022-03-17T05:17:21.550133Z"
    },
    "papermill": {
     "duration": 0.115049,
     "end_time": "2022-03-17T05:56:18.455908",
     "exception": false,
     "start_time": "2022-03-17T05:56:18.340859",
     "status": "completed"
    },
    "tags": []
   },
   "outputs": [
    {
     "data": {
      "text/plain": [
       "(303, 14)"
      ]
     },
     "execution_count": 2,
     "metadata": {},
     "output_type": "execute_result"
    }
   ],
   "source": [
    "df = pd.read_csv(\"../input/hear2csv/heart (2).csv\")\n",
    "df.shape"
   ]
  },
  {
   "cell_type": "markdown",
   "id": "1d29a3dc",
   "metadata": {
    "papermill": {
     "duration": 0.090702,
     "end_time": "2022-03-17T05:56:18.636345",
     "exception": false,
     "start_time": "2022-03-17T05:56:18.545643",
     "status": "completed"
    },
    "tags": []
   },
   "source": [
    "# 3.0 Data Exploration (exploratory data analysis or EDA)\n",
    "\n",
    "The goal here is to find out more about the data and become a subject matter export on the dataset you're working with. \n",
    "\n",
    "1. What question(s) are you trying to solve?\n",
    "2. What kind of data do we have and how do we treat different types?\n",
    "3. What's missing from the data and how do you deal with it?\n",
    "4. Where are the outliers and why should you care about them?\n",
    "5. How can you add, change or remove features to get more out of your data?"
   ]
  },
  {
   "cell_type": "code",
   "execution_count": 3,
   "id": "9b289eb5",
   "metadata": {
    "execution": {
     "iopub.execute_input": "2022-03-17T05:56:18.818049Z",
     "iopub.status.busy": "2022-03-17T05:56:18.817168Z",
     "iopub.status.idle": "2022-03-17T05:56:18.835417Z",
     "shell.execute_reply": "2022-03-17T05:56:18.835941Z",
     "shell.execute_reply.started": "2022-03-17T05:17:21.572234Z"
    },
    "papermill": {
     "duration": 0.110604,
     "end_time": "2022-03-17T05:56:18.836104",
     "exception": false,
     "start_time": "2022-03-17T05:56:18.725500",
     "status": "completed"
    },
    "scrolled": true,
    "tags": []
   },
   "outputs": [
    {
     "data": {
      "text/html": [
       "<div>\n",
       "<style scoped>\n",
       "    .dataframe tbody tr th:only-of-type {\n",
       "        vertical-align: middle;\n",
       "    }\n",
       "\n",
       "    .dataframe tbody tr th {\n",
       "        vertical-align: top;\n",
       "    }\n",
       "\n",
       "    .dataframe thead th {\n",
       "        text-align: right;\n",
       "    }\n",
       "</style>\n",
       "<table border=\"1\" class=\"dataframe\">\n",
       "  <thead>\n",
       "    <tr style=\"text-align: right;\">\n",
       "      <th></th>\n",
       "      <th>age</th>\n",
       "      <th>sex</th>\n",
       "      <th>cp</th>\n",
       "      <th>trestbps</th>\n",
       "      <th>chol</th>\n",
       "      <th>fbs</th>\n",
       "      <th>restecg</th>\n",
       "      <th>thalach</th>\n",
       "      <th>exang</th>\n",
       "      <th>oldpeak</th>\n",
       "      <th>slope</th>\n",
       "      <th>ca</th>\n",
       "      <th>thal</th>\n",
       "      <th>target</th>\n",
       "    </tr>\n",
       "  </thead>\n",
       "  <tbody>\n",
       "    <tr>\n",
       "      <th>0</th>\n",
       "      <td>63</td>\n",
       "      <td>1</td>\n",
       "      <td>3</td>\n",
       "      <td>145</td>\n",
       "      <td>233</td>\n",
       "      <td>1</td>\n",
       "      <td>0</td>\n",
       "      <td>150</td>\n",
       "      <td>0</td>\n",
       "      <td>2.3</td>\n",
       "      <td>0</td>\n",
       "      <td>0</td>\n",
       "      <td>1</td>\n",
       "      <td>1</td>\n",
       "    </tr>\n",
       "    <tr>\n",
       "      <th>1</th>\n",
       "      <td>37</td>\n",
       "      <td>1</td>\n",
       "      <td>2</td>\n",
       "      <td>130</td>\n",
       "      <td>250</td>\n",
       "      <td>0</td>\n",
       "      <td>1</td>\n",
       "      <td>187</td>\n",
       "      <td>0</td>\n",
       "      <td>3.5</td>\n",
       "      <td>0</td>\n",
       "      <td>0</td>\n",
       "      <td>2</td>\n",
       "      <td>1</td>\n",
       "    </tr>\n",
       "    <tr>\n",
       "      <th>2</th>\n",
       "      <td>41</td>\n",
       "      <td>0</td>\n",
       "      <td>1</td>\n",
       "      <td>130</td>\n",
       "      <td>204</td>\n",
       "      <td>0</td>\n",
       "      <td>0</td>\n",
       "      <td>172</td>\n",
       "      <td>0</td>\n",
       "      <td>1.4</td>\n",
       "      <td>2</td>\n",
       "      <td>0</td>\n",
       "      <td>2</td>\n",
       "      <td>1</td>\n",
       "    </tr>\n",
       "    <tr>\n",
       "      <th>3</th>\n",
       "      <td>56</td>\n",
       "      <td>1</td>\n",
       "      <td>1</td>\n",
       "      <td>120</td>\n",
       "      <td>236</td>\n",
       "      <td>0</td>\n",
       "      <td>1</td>\n",
       "      <td>178</td>\n",
       "      <td>0</td>\n",
       "      <td>0.8</td>\n",
       "      <td>2</td>\n",
       "      <td>0</td>\n",
       "      <td>2</td>\n",
       "      <td>1</td>\n",
       "    </tr>\n",
       "    <tr>\n",
       "      <th>4</th>\n",
       "      <td>57</td>\n",
       "      <td>0</td>\n",
       "      <td>0</td>\n",
       "      <td>120</td>\n",
       "      <td>354</td>\n",
       "      <td>0</td>\n",
       "      <td>1</td>\n",
       "      <td>163</td>\n",
       "      <td>1</td>\n",
       "      <td>0.6</td>\n",
       "      <td>2</td>\n",
       "      <td>0</td>\n",
       "      <td>2</td>\n",
       "      <td>1</td>\n",
       "    </tr>\n",
       "  </tbody>\n",
       "</table>\n",
       "</div>"
      ],
      "text/plain": [
       "   age  sex  cp  trestbps  chol  fbs  restecg  thalach  exang  oldpeak  slope  \\\n",
       "0   63    1   3       145   233    1        0      150      0      2.3      0   \n",
       "1   37    1   2       130   250    0        1      187      0      3.5      0   \n",
       "2   41    0   1       130   204    0        0      172      0      1.4      2   \n",
       "3   56    1   1       120   236    0        1      178      0      0.8      2   \n",
       "4   57    0   0       120   354    0        1      163      1      0.6      2   \n",
       "\n",
       "   ca  thal  target  \n",
       "0   0     1       1  \n",
       "1   0     2       1  \n",
       "2   0     2       1  \n",
       "3   0     2       1  \n",
       "4   0     2       1  "
      ]
     },
     "execution_count": 3,
     "metadata": {},
     "output_type": "execute_result"
    }
   ],
   "source": [
    "df.head()"
   ]
  },
  {
   "cell_type": "code",
   "execution_count": 4,
   "id": "e2be0a75",
   "metadata": {
    "execution": {
     "iopub.execute_input": "2022-03-17T05:56:19.019785Z",
     "iopub.status.busy": "2022-03-17T05:56:19.018965Z",
     "iopub.status.idle": "2022-03-17T05:56:19.029746Z",
     "shell.execute_reply": "2022-03-17T05:56:19.030321Z",
     "shell.execute_reply.started": "2022-03-17T05:17:21.594586Z"
    },
    "papermill": {
     "duration": 0.104521,
     "end_time": "2022-03-17T05:56:19.030491",
     "exception": false,
     "start_time": "2022-03-17T05:56:18.925970",
     "status": "completed"
    },
    "tags": []
   },
   "outputs": [
    {
     "data": {
      "text/html": [
       "<div>\n",
       "<style scoped>\n",
       "    .dataframe tbody tr th:only-of-type {\n",
       "        vertical-align: middle;\n",
       "    }\n",
       "\n",
       "    .dataframe tbody tr th {\n",
       "        vertical-align: top;\n",
       "    }\n",
       "\n",
       "    .dataframe thead th {\n",
       "        text-align: right;\n",
       "    }\n",
       "</style>\n",
       "<table border=\"1\" class=\"dataframe\">\n",
       "  <thead>\n",
       "    <tr style=\"text-align: right;\">\n",
       "      <th></th>\n",
       "      <th>age</th>\n",
       "      <th>sex</th>\n",
       "      <th>cp</th>\n",
       "      <th>trestbps</th>\n",
       "      <th>chol</th>\n",
       "      <th>fbs</th>\n",
       "      <th>restecg</th>\n",
       "      <th>thalach</th>\n",
       "      <th>exang</th>\n",
       "      <th>oldpeak</th>\n",
       "      <th>slope</th>\n",
       "      <th>ca</th>\n",
       "      <th>thal</th>\n",
       "      <th>target</th>\n",
       "    </tr>\n",
       "  </thead>\n",
       "  <tbody>\n",
       "    <tr>\n",
       "      <th>298</th>\n",
       "      <td>57</td>\n",
       "      <td>0</td>\n",
       "      <td>0</td>\n",
       "      <td>140</td>\n",
       "      <td>241</td>\n",
       "      <td>0</td>\n",
       "      <td>1</td>\n",
       "      <td>123</td>\n",
       "      <td>1</td>\n",
       "      <td>0.2</td>\n",
       "      <td>1</td>\n",
       "      <td>0</td>\n",
       "      <td>3</td>\n",
       "      <td>0</td>\n",
       "    </tr>\n",
       "    <tr>\n",
       "      <th>299</th>\n",
       "      <td>45</td>\n",
       "      <td>1</td>\n",
       "      <td>3</td>\n",
       "      <td>110</td>\n",
       "      <td>264</td>\n",
       "      <td>0</td>\n",
       "      <td>1</td>\n",
       "      <td>132</td>\n",
       "      <td>0</td>\n",
       "      <td>1.2</td>\n",
       "      <td>1</td>\n",
       "      <td>0</td>\n",
       "      <td>3</td>\n",
       "      <td>0</td>\n",
       "    </tr>\n",
       "    <tr>\n",
       "      <th>300</th>\n",
       "      <td>68</td>\n",
       "      <td>1</td>\n",
       "      <td>0</td>\n",
       "      <td>144</td>\n",
       "      <td>193</td>\n",
       "      <td>1</td>\n",
       "      <td>1</td>\n",
       "      <td>141</td>\n",
       "      <td>0</td>\n",
       "      <td>3.4</td>\n",
       "      <td>1</td>\n",
       "      <td>2</td>\n",
       "      <td>3</td>\n",
       "      <td>0</td>\n",
       "    </tr>\n",
       "    <tr>\n",
       "      <th>301</th>\n",
       "      <td>57</td>\n",
       "      <td>1</td>\n",
       "      <td>0</td>\n",
       "      <td>130</td>\n",
       "      <td>131</td>\n",
       "      <td>0</td>\n",
       "      <td>1</td>\n",
       "      <td>115</td>\n",
       "      <td>1</td>\n",
       "      <td>1.2</td>\n",
       "      <td>1</td>\n",
       "      <td>1</td>\n",
       "      <td>3</td>\n",
       "      <td>0</td>\n",
       "    </tr>\n",
       "    <tr>\n",
       "      <th>302</th>\n",
       "      <td>57</td>\n",
       "      <td>0</td>\n",
       "      <td>1</td>\n",
       "      <td>130</td>\n",
       "      <td>236</td>\n",
       "      <td>0</td>\n",
       "      <td>0</td>\n",
       "      <td>174</td>\n",
       "      <td>0</td>\n",
       "      <td>0.0</td>\n",
       "      <td>1</td>\n",
       "      <td>1</td>\n",
       "      <td>2</td>\n",
       "      <td>0</td>\n",
       "    </tr>\n",
       "  </tbody>\n",
       "</table>\n",
       "</div>"
      ],
      "text/plain": [
       "     age  sex  cp  trestbps  chol  fbs  restecg  thalach  exang  oldpeak  \\\n",
       "298   57    0   0       140   241    0        1      123      1      0.2   \n",
       "299   45    1   3       110   264    0        1      132      0      1.2   \n",
       "300   68    1   0       144   193    1        1      141      0      3.4   \n",
       "301   57    1   0       130   131    0        1      115      1      1.2   \n",
       "302   57    0   1       130   236    0        0      174      0      0.0   \n",
       "\n",
       "     slope  ca  thal  target  \n",
       "298      1   0     3       0  \n",
       "299      1   0     3       0  \n",
       "300      1   2     3       0  \n",
       "301      1   1     3       0  \n",
       "302      1   1     2       0  "
      ]
     },
     "execution_count": 4,
     "metadata": {},
     "output_type": "execute_result"
    }
   ],
   "source": [
    "df.tail()"
   ]
  },
  {
   "cell_type": "code",
   "execution_count": 5,
   "id": "f88f87ea",
   "metadata": {
    "execution": {
     "iopub.execute_input": "2022-03-17T05:56:19.214591Z",
     "iopub.status.busy": "2022-03-17T05:56:19.213860Z",
     "iopub.status.idle": "2022-03-17T05:56:19.226283Z",
     "shell.execute_reply": "2022-03-17T05:56:19.226756Z",
     "shell.execute_reply.started": "2022-03-17T05:17:21.61346Z"
    },
    "papermill": {
     "duration": 0.105954,
     "end_time": "2022-03-17T05:56:19.226892",
     "exception": false,
     "start_time": "2022-03-17T05:56:19.120938",
     "status": "completed"
    },
    "tags": []
   },
   "outputs": [
    {
     "data": {
      "text/plain": [
       "1    165\n",
       "0    138\n",
       "Name: target, dtype: int64"
      ]
     },
     "execution_count": 5,
     "metadata": {},
     "output_type": "execute_result"
    }
   ],
   "source": [
    "#how many class of one feature or target\n",
    "df[\"target\"].value_counts()"
   ]
  },
  {
   "cell_type": "code",
   "execution_count": 6,
   "id": "26eb072d",
   "metadata": {
    "execution": {
     "iopub.execute_input": "2022-03-17T05:56:19.347318Z",
     "iopub.status.busy": "2022-03-17T05:56:19.346874Z",
     "iopub.status.idle": "2022-03-17T05:56:19.554343Z",
     "shell.execute_reply": "2022-03-17T05:56:19.554744Z",
     "shell.execute_reply.started": "2022-03-17T05:17:21.62265Z"
    },
    "papermill": {
     "duration": 0.268317,
     "end_time": "2022-03-17T05:56:19.554896",
     "exception": false,
     "start_time": "2022-03-17T05:56:19.286579",
     "status": "completed"
    },
    "scrolled": true,
    "tags": []
   },
   "outputs": [
    {
     "data": {
      "text/plain": [
       "<AxesSubplot:>"
      ]
     },
     "execution_count": 6,
     "metadata": {},
     "output_type": "execute_result"
    },
    {
     "data": {
      "image/png": "[encoded data removed]",
      "text/plain": [
       "<Figure size 432x288 with 1 Axes>"
      ]
     },
     "metadata": {
      "needs_background": "light"
     },
     "output_type": "display_data"
    }
   ],
   "source": [
    "#bar chart\n",
    "df[\"target\"].value_counts().plot(kind='bar', color=[\"salmon\",\"lightblue\"])"
   ]
  },
  {
   "cell_type": "markdown",
   "id": "59243311",
   "metadata": {
    "papermill": {
     "duration": 0.059986,
     "end_time": "2022-03-17T05:56:19.675303",
     "exception": false,
     "start_time": "2022-03-17T05:56:19.615317",
     "status": "completed"
    },
    "tags": []
   },
   "source": [
    "In this barchart, we can see that more data samples has heart disease."
   ]
  },
  {
   "cell_type": "code",
   "execution_count": 7,
   "id": "095f0466",
   "metadata": {
    "execution": {
     "iopub.execute_input": "2022-03-17T05:56:19.830073Z",
     "iopub.status.busy": "2022-03-17T05:56:19.829269Z",
     "iopub.status.idle": "2022-03-17T05:56:19.844603Z",
     "shell.execute_reply": "2022-03-17T05:56:19.843995Z",
     "shell.execute_reply.started": "2022-03-17T05:17:21.837205Z"
    },
    "papermill": {
     "duration": 0.108939,
     "end_time": "2022-03-17T05:56:19.844768",
     "exception": false,
     "start_time": "2022-03-17T05:56:19.735829",
     "status": "completed"
    },
    "tags": []
   },
   "outputs": [
    {
     "name": "stdout",
     "output_type": "stream",
     "text": [
      "<class 'pandas.core.frame.DataFrame'>\n",
      "RangeIndex: 303 entries, 0 to 302\n",
      "Data columns (total 14 columns):\n",
      " #   Column    Non-Null Count  Dtype  \n",
      "---  ------    --------------  -----  \n",
      " 0   age       303 non-null    int64  \n",
      " 1   sex       303 non-null    int64  \n",
      " 2   cp        303 non-null    int64  \n",
      " 3   trestbps  303 non-null    int64  \n",
      " 4   chol      303 non-null    int64  \n",
      " 5   fbs       303 non-null    int64  \n",
      " 6   restecg   303 non-null    int64  \n",
      " 7   thalach   303 non-null    int64  \n",
      " 8   exang     303 non-null    int64  \n",
      " 9   oldpeak   303 non-null    float64\n",
      " 10  slope     303 non-null    int64  \n",
      " 11  ca        303 non-null    int64  \n",
      " 12  thal      303 non-null    int64  \n",
      " 13  target    303 non-null    int64  \n",
      "dtypes: float64(1), int64(13)\n",
      "memory usage: 33.3 KB\n"
     ]
    }
   ],
   "source": [
    "df.info()"
   ]
  },
  {
   "cell_type": "code",
   "execution_count": 8,
   "id": "584084eb",
   "metadata": {
    "execution": {
     "iopub.execute_input": "2022-03-17T05:56:19.977055Z",
     "iopub.status.busy": "2022-03-17T05:56:19.976391Z",
     "iopub.status.idle": "2022-03-17T05:56:19.985352Z",
     "shell.execute_reply": "2022-03-17T05:56:19.984727Z",
     "shell.execute_reply.started": "2022-03-17T05:17:21.853761Z"
    },
    "papermill": {
     "duration": 0.078432,
     "end_time": "2022-03-17T05:56:19.985490",
     "exception": false,
     "start_time": "2022-03-17T05:56:19.907058",
     "status": "completed"
    },
    "tags": []
   },
   "outputs": [
    {
     "data": {
      "text/plain": [
       "age         0\n",
       "sex         0\n",
       "cp          0\n",
       "trestbps    0\n",
       "chol        0\n",
       "fbs         0\n",
       "restecg     0\n",
       "thalach     0\n",
       "exang       0\n",
       "oldpeak     0\n",
       "slope       0\n",
       "ca          0\n",
       "thal        0\n",
       "target      0\n",
       "dtype: int64"
      ]
     },
     "execution_count": 8,
     "metadata": {},
     "output_type": "execute_result"
    }
   ],
   "source": [
    "#check missing values of all features\n",
    "df.isna().sum()"
   ]
  },
  {
   "cell_type": "code",
   "execution_count": 9,
   "id": "b327284d",
   "metadata": {
    "execution": {
     "iopub.execute_input": "2022-03-17T05:56:20.176216Z",
     "iopub.status.busy": "2022-03-17T05:56:20.175406Z",
     "iopub.status.idle": "2022-03-17T05:56:20.215409Z",
     "shell.execute_reply": "2022-03-17T05:56:20.214776Z",
     "shell.execute_reply.started": "2022-03-17T05:17:21.864931Z"
    },
    "papermill": {
     "duration": 0.136008,
     "end_time": "2022-03-17T05:56:20.215541",
     "exception": false,
     "start_time": "2022-03-17T05:56:20.079533",
     "status": "completed"
    },
    "tags": []
   },
   "outputs": [
    {
     "data": {
      "text/html": [
       "<div>\n",
       "<style scoped>\n",
       "    .dataframe tbody tr th:only-of-type {\n",
       "        vertical-align: middle;\n",
       "    }\n",
       "\n",
       "    .dataframe tbody tr th {\n",
       "        vertical-align: top;\n",
       "    }\n",
       "\n",
       "    .dataframe thead th {\n",
       "        text-align: right;\n",
       "    }\n",
       "</style>\n",
       "<table border=\"1\" class=\"dataframe\">\n",
       "  <thead>\n",
       "    <tr style=\"text-align: right;\">\n",
       "      <th></th>\n",
       "      <th>age</th>\n",
       "      <th>sex</th>\n",
       "      <th>cp</th>\n",
       "      <th>trestbps</th>\n",
       "      <th>chol</th>\n",
       "      <th>fbs</th>\n",
       "      <th>restecg</th>\n",
       "      <th>thalach</th>\n",
       "      <th>exang</th>\n",
       "      <th>oldpeak</th>\n",
       "      <th>slope</th>\n",
       "      <th>ca</th>\n",
       "      <th>thal</th>\n",
       "      <th>target</th>\n",
       "    </tr>\n",
       "  </thead>\n",
       "  <tbody>\n",
       "    <tr>\n",
       "      <th>count</th>\n",
       "      <td>303.000000</td>\n",
       "      <td>303.000000</td>\n",
       "      <td>303.000000</td>\n",
       "      <td>303.000000</td>\n",
       "      <td>303.000000</td>\n",
       "      <td>303.000000</td>\n",
       "      <td>303.000000</td>\n",
       "      <td>303.000000</td>\n",
       "      <td>303.000000</td>\n",
       "      <td>303.000000</td>\n",
       "      <td>303.000000</td>\n",
       "      <td>303.000000</td>\n",
       "      <td>303.000000</td>\n",
       "      <td>303.000000</td>\n",
       "    </tr>\n",
       "    <tr>\n",
       "      <th>mean</th>\n",
       "      <td>54.366337</td>\n",
       "      <td>0.683168</td>\n",
       "      <td>0.966997</td>\n",
       "      <td>131.623762</td>\n",
       "      <td>246.264026</td>\n",
       "      <td>0.148515</td>\n",
       "      <td>0.528053</td>\n",
       "      <td>149.646865</td>\n",
       "      <td>0.326733</td>\n",
       "      <td>1.039604</td>\n",
       "      <td>1.399340</td>\n",
       "      <td>0.729373</td>\n",
       "      <td>2.313531</td>\n",
       "      <td>0.544554</td>\n",
       "    </tr>\n",
       "    <tr>\n",
       "      <th>std</th>\n",
       "      <td>9.082101</td>\n",
       "      <td>0.466011</td>\n",
       "      <td>1.032052</td>\n",
       "      <td>17.538143</td>\n",
       "      <td>51.830751</td>\n",
       "      <td>0.356198</td>\n",
       "      <td>0.525860</td>\n",
       "      <td>22.905161</td>\n",
       "      <td>0.469794</td>\n",
       "      <td>1.161075</td>\n",
       "      <td>0.616226</td>\n",
       "      <td>1.022606</td>\n",
       "      <td>0.612277</td>\n",
       "      <td>0.498835</td>\n",
       "    </tr>\n",
       "    <tr>\n",
       "      <th>min</th>\n",
       "      <td>29.000000</td>\n",
       "      <td>0.000000</td>\n",
       "      <td>0.000000</td>\n",
       "      <td>94.000000</td>\n",
       "      <td>126.000000</td>\n",
       "      <td>0.000000</td>\n",
       "      <td>0.000000</td>\n",
       "      <td>71.000000</td>\n",
       "      <td>0.000000</td>\n",
       "      <td>0.000000</td>\n",
       "      <td>0.000000</td>\n",
       "      <td>0.000000</td>\n",
       "      <td>0.000000</td>\n",
       "      <td>0.000000</td>\n",
       "    </tr>\n",
       "    <tr>\n",
       "      <th>25%</th>\n",
       "      <td>47.500000</td>\n",
       "      <td>0.000000</td>\n",
       "      <td>0.000000</td>\n",
       "      <td>120.000000</td>\n",
       "      <td>211.000000</td>\n",
       "      <td>0.000000</td>\n",
       "      <td>0.000000</td>\n",
       "      <td>133.500000</td>\n",
       "      <td>0.000000</td>\n",
       "      <td>0.000000</td>\n",
       "      <td>1.000000</td>\n",
       "      <td>0.000000</td>\n",
       "      <td>2.000000</td>\n",
       "      <td>0.000000</td>\n",
       "    </tr>\n",
       "    <tr>\n",
       "      <th>50%</th>\n",
       "      <td>55.000000</td>\n",
       "      <td>1.000000</td>\n",
       "      <td>1.000000</td>\n",
       "      <td>130.000000</td>\n",
       "      <td>240.000000</td>\n",
       "      <td>0.000000</td>\n",
       "      <td>1.000000</td>\n",
       "      <td>153.000000</td>\n",
       "      <td>0.000000</td>\n",
       "      <td>0.800000</td>\n",
       "      <td>1.000000</td>\n",
       "      <td>0.000000</td>\n",
       "      <td>2.000000</td>\n",
       "      <td>1.000000</td>\n",
       "    </tr>\n",
       "    <tr>\n",
       "      <th>75%</th>\n",
       "      <td>61.000000</td>\n",
       "      <td>1.000000</td>\n",
       "      <td>2.000000</td>\n",
       "      <td>140.000000</td>\n",
       "      <td>274.500000</td>\n",
       "      <td>0.000000</td>\n",
       "      <td>1.000000</td>\n",
       "      <td>166.000000</td>\n",
       "      <td>1.000000</td>\n",
       "      <td>1.600000</td>\n",
       "      <td>2.000000</td>\n",
       "      <td>1.000000</td>\n",
       "      <td>3.000000</td>\n",
       "      <td>1.000000</td>\n",
       "    </tr>\n",
       "    <tr>\n",
       "      <th>max</th>\n",
       "      <td>77.000000</td>\n",
       "      <td>1.000000</td>\n",
       "      <td>3.000000</td>\n",
       "      <td>200.000000</td>\n",
       "      <td>564.000000</td>\n",
       "      <td>1.000000</td>\n",
       "      <td>2.000000</td>\n",
       "      <td>202.000000</td>\n",
       "      <td>1.000000</td>\n",
       "      <td>6.200000</td>\n",
       "      <td>2.000000</td>\n",
       "      <td>4.000000</td>\n",
       "      <td>3.000000</td>\n",
       "      <td>1.000000</td>\n",
       "    </tr>\n",
       "  </tbody>\n",
       "</table>\n",
       "</div>"
      ],
      "text/plain": [
       "              age         sex          cp    trestbps        chol         fbs  \\\n",
       "count  303.000000  303.000000  303.000000  303.000000  303.000000  303.000000   \n",
       "mean    54.366337    0.683168    0.966997  131.623762  246.264026    0.148515   \n",
       "std      9.082101    0.466011    1.032052   17.538143   51.830751    0.356198   \n",
       "min     29.000000    0.000000    0.000000   94.000000  126.000000    0.000000   \n",
       "25%     47.500000    0.000000    0.000000  120.000000  211.000000    0.000000   \n",
       "50%     55.000000    1.000000    1.000000  130.000000  240.000000    0.000000   \n",
       "75%     61.000000    1.000000    2.000000  140.000000  274.500000    0.000000   \n",
       "max     77.000000    1.000000    3.000000  200.000000  564.000000    1.000000   \n",
       "\n",
       "          restecg     thalach       exang     oldpeak       slope          ca  \\\n",
       "count  303.000000  303.000000  303.000000  303.000000  303.000000  303.000000   \n",
       "mean     0.528053  149.646865    0.326733    1.039604    1.399340    0.729373   \n",
       "std      0.525860   22.905161    0.469794    1.161075    0.616226    1.022606   \n",
       "min      0.000000   71.000000    0.000000    0.000000    0.000000    0.000000   \n",
       "25%      0.000000  133.500000    0.000000    0.000000    1.000000    0.000000   \n",
       "50%      1.000000  153.000000    0.000000    0.800000    1.000000    0.000000   \n",
       "75%      1.000000  166.000000    1.000000    1.600000    2.000000    1.000000   \n",
       "max      2.000000  202.000000    1.000000    6.200000    2.000000    4.000000   \n",
       "\n",
       "             thal      target  \n",
       "count  303.000000  303.000000  \n",
       "mean     2.313531    0.544554  \n",
       "std      0.612277    0.498835  \n",
       "min      0.000000    0.000000  \n",
       "25%      2.000000    0.000000  \n",
       "50%      2.000000    1.000000  \n",
       "75%      3.000000    1.000000  \n",
       "max      3.000000    1.000000  "
      ]
     },
     "execution_count": 9,
     "metadata": {},
     "output_type": "execute_result"
    }
   ],
   "source": [
    "df.describe()"
   ]
  },
  {
   "cell_type": "markdown",
   "id": "8aa507d9",
   "metadata": {
    "papermill": {
     "duration": 0.093744,
     "end_time": "2022-03-17T05:56:20.403625",
     "exception": false,
     "start_time": "2022-03-17T05:56:20.309881",
     "status": "completed"
    },
    "tags": []
   },
   "source": [
    "## 3.1 Heart Disease Frequency according to Sex"
   ]
  },
  {
   "cell_type": "code",
   "execution_count": 10,
   "id": "752ac2bb",
   "metadata": {
    "execution": {
     "iopub.execute_input": "2022-03-17T05:56:20.599823Z",
     "iopub.status.busy": "2022-03-17T05:56:20.599137Z",
     "iopub.status.idle": "2022-03-17T05:56:20.601670Z",
     "shell.execute_reply": "2022-03-17T05:56:20.602179Z",
     "shell.execute_reply.started": "2022-03-17T05:17:21.919954Z"
    },
    "papermill": {
     "duration": 0.104139,
     "end_time": "2022-03-17T05:56:20.602342",
     "exception": false,
     "start_time": "2022-03-17T05:56:20.498203",
     "status": "completed"
    },
    "tags": []
   },
   "outputs": [
    {
     "data": {
      "text/plain": [
       "1    207\n",
       "0     96\n",
       "Name: sex, dtype: int64"
      ]
     },
     "execution_count": 10,
     "metadata": {},
     "output_type": "execute_result"
    }
   ],
   "source": [
    "df.sex.value_counts()"
   ]
  },
  {
   "cell_type": "code",
   "execution_count": 11,
   "id": "dd4d8516",
   "metadata": {
    "execution": {
     "iopub.execute_input": "2022-03-17T05:56:20.798368Z",
     "iopub.status.busy": "2022-03-17T05:56:20.797651Z",
     "iopub.status.idle": "2022-03-17T05:56:20.818368Z",
     "shell.execute_reply": "2022-03-17T05:56:20.818920Z",
     "shell.execute_reply.started": "2022-03-17T05:17:21.931476Z"
    },
    "papermill": {
     "duration": 0.119742,
     "end_time": "2022-03-17T05:56:20.819085",
     "exception": false,
     "start_time": "2022-03-17T05:56:20.699343",
     "status": "completed"
    },
    "tags": []
   },
   "outputs": [
    {
     "data": {
      "text/html": [
       "<div>\n",
       "<style scoped>\n",
       "    .dataframe tbody tr th:only-of-type {\n",
       "        vertical-align: middle;\n",
       "    }\n",
       "\n",
       "    .dataframe tbody tr th {\n",
       "        vertical-align: top;\n",
       "    }\n",
       "\n",
       "    .dataframe thead th {\n",
       "        text-align: right;\n",
       "    }\n",
       "</style>\n",
       "<table border=\"1\" class=\"dataframe\">\n",
       "  <thead>\n",
       "    <tr style=\"text-align: right;\">\n",
       "      <th>sex</th>\n",
       "      <th>0</th>\n",
       "      <th>1</th>\n",
       "    </tr>\n",
       "    <tr>\n",
       "      <th>target</th>\n",
       "      <th></th>\n",
       "      <th></th>\n",
       "    </tr>\n",
       "  </thead>\n",
       "  <tbody>\n",
       "    <tr>\n",
       "      <th>0</th>\n",
       "      <td>24</td>\n",
       "      <td>114</td>\n",
       "    </tr>\n",
       "    <tr>\n",
       "      <th>1</th>\n",
       "      <td>72</td>\n",
       "      <td>93</td>\n",
       "    </tr>\n",
       "  </tbody>\n",
       "</table>\n",
       "</div>"
      ],
      "text/plain": [
       "sex      0    1\n",
       "target         \n",
       "0       24  114\n",
       "1       72   93"
      ]
     },
     "execution_count": 11,
     "metadata": {},
     "output_type": "execute_result"
    }
   ],
   "source": [
    "#Compare target and sex column\n",
    "pd.crosstab(df.target, df.sex)"
   ]
  },
  {
   "cell_type": "code",
   "execution_count": 12,
   "id": "028d6b1c",
   "metadata": {
    "execution": {
     "iopub.execute_input": "2022-03-17T05:56:21.012258Z",
     "iopub.status.busy": "2022-03-17T05:56:21.011650Z",
     "iopub.status.idle": "2022-03-17T05:56:21.211092Z",
     "shell.execute_reply": "2022-03-17T05:56:21.210193Z",
     "shell.execute_reply.started": "2022-03-17T05:17:21.954888Z"
    },
    "papermill": {
     "duration": 0.296981,
     "end_time": "2022-03-17T05:56:21.211247",
     "exception": false,
     "start_time": "2022-03-17T05:56:20.914266",
     "status": "completed"
    },
    "scrolled": true,
    "tags": []
   },
   "outputs": [
    {
     "data": {
      "image/png": "[encoded data removed]",
      "text/plain": [
       "<Figure size 720x432 with 1 Axes>"
      ]
     },
     "metadata": {
      "needs_background": "light"
     },
     "output_type": "display_data"
    }
   ],
   "source": [
    "#Create plot of crosstab\n",
    "pd.crosstab(df.target, df.sex).plot(kind=\"bar\",figsize=(10,6),color=[\"salmon\",\"lightblue\"])\n",
    "plt.title(\"Heart Disease Frerquency for Sex\")\n",
    "plt.xlabel(\"0 = No Disease, 1=Disease\")\n",
    "plt.ylabel(\"Amount\")\n",
    "plt.legend([\"Female\",\"Male\"]);\n",
    "plt.xticks(rotation=0);"
   ]
  },
  {
   "cell_type": "markdown",
   "id": "e915de30",
   "metadata": {
    "papermill": {
     "duration": 0.097717,
     "end_time": "2022-03-17T05:56:21.406083",
     "exception": false,
     "start_time": "2022-03-17T05:56:21.308366",
     "status": "completed"
    },
    "tags": []
   },
   "source": [
    "From the barchart above, the frequency of female getting heart disease is higher in this dataset compared to male. "
   ]
  },
  {
   "cell_type": "markdown",
   "id": "9c3317df",
   "metadata": {
    "papermill": {
     "duration": 0.096503,
     "end_time": "2022-03-17T05:56:21.599776",
     "exception": false,
     "start_time": "2022-03-17T05:56:21.503273",
     "status": "completed"
    },
    "tags": []
   },
   "source": [
    "## 3.2 Age vs. Max Heart Rate for Heart Disease"
   ]
  },
  {
   "cell_type": "code",
   "execution_count": 13,
   "id": "07ea2b5f",
   "metadata": {
    "execution": {
     "iopub.execute_input": "2022-03-17T05:56:21.796005Z",
     "iopub.status.busy": "2022-03-17T05:56:21.795299Z",
     "iopub.status.idle": "2022-03-17T05:56:22.081100Z",
     "shell.execute_reply": "2022-03-17T05:56:22.080662Z",
     "shell.execute_reply.started": "2022-03-17T05:17:22.197304Z"
    },
    "papermill": {
     "duration": 0.384431,
     "end_time": "2022-03-17T05:56:22.081219",
     "exception": false,
     "start_time": "2022-03-17T05:56:21.696788",
     "status": "completed"
    },
    "scrolled": true,
    "tags": []
   },
   "outputs": [
    {
     "data": {
      "text/plain": [
       "<matplotlib.legend.Legend at 0x7febb10c5d10>"
      ]
     },
     "execution_count": 13,
     "metadata": {},
     "output_type": "execute_result"
    },
    {
     "data": {
      "image/png": "[encoded data removed]",
      "text/plain": [
       "<Figure size 720x432 with 1 Axes>"
      ]
     },
     "metadata": {
      "needs_background": "light"
     },
     "output_type": "display_data"
    }
   ],
   "source": [
    "#Create new figure\n",
    "plt.figure(figsize=(10,6))\n",
    "\n",
    "#Scatter with positive examples\n",
    "plt.scatter(df.age[df.target==1],\n",
    "           df.thalach[df.target==1],\n",
    "           c=\"salmon\")\n",
    "\n",
    "#Scatter with negative examples\n",
    "plt.scatter(df.age[df.target==0],\n",
    "           df.thalach[df.target==0],\n",
    "           c=\"lightblue\");\n",
    "\n",
    "#Add some helpful info\n",
    "plt.title(\"Heart Disease in function of Age and Max Heart Rate\")\n",
    "plt.xlabel(\"Age\")\n",
    "plt.ylabel(\"Max Heart Rate\")\n",
    "plt.legend([\"Disease\",\"No Disease\"])"
   ]
  },
  {
   "cell_type": "markdown",
   "id": "a5d446ad",
   "metadata": {
    "papermill": {
     "duration": 0.063382,
     "end_time": "2022-03-17T05:56:22.208920",
     "exception": false,
     "start_time": "2022-03-17T05:56:22.145538",
     "status": "completed"
    },
    "tags": []
   },
   "source": [
    "The chances of getting maximum heart rate is higher for heart disease patients. "
   ]
  },
  {
   "cell_type": "code",
   "execution_count": 14,
   "id": "70b0f7c0",
   "metadata": {
    "execution": {
     "iopub.execute_input": "2022-03-17T05:56:22.340847Z",
     "iopub.status.busy": "2022-03-17T05:56:22.340081Z",
     "iopub.status.idle": "2022-03-17T05:56:22.525804Z",
     "shell.execute_reply": "2022-03-17T05:56:22.525149Z",
     "shell.execute_reply.started": "2022-03-17T05:17:22.509113Z"
    },
    "papermill": {
     "duration": 0.2531,
     "end_time": "2022-03-17T05:56:22.525948",
     "exception": false,
     "start_time": "2022-03-17T05:56:22.272848",
     "status": "completed"
    },
    "scrolled": true,
    "tags": []
   },
   "outputs": [
    {
     "data": {
      "text/plain": [
       "<AxesSubplot:ylabel='Frequency'>"
      ]
     },
     "execution_count": 14,
     "metadata": {},
     "output_type": "execute_result"
    },
    {
     "data": {
      "image/png": "[encoded data removed]",
      "text/plain": [
       "<Figure size 432x288 with 1 Axes>"
      ]
     },
     "metadata": {
      "needs_background": "light"
     },
     "output_type": "display_data"
    }
   ],
   "source": [
    "#Check the distribution of the age column with a histogram\n",
    "#May check for outliers of the data\n",
    "df.age.plot.hist()"
   ]
  },
  {
   "cell_type": "markdown",
   "id": "404a076d",
   "metadata": {
    "papermill": {
     "duration": 0.099821,
     "end_time": "2022-03-17T05:56:22.726061",
     "exception": false,
     "start_time": "2022-03-17T05:56:22.626240",
     "status": "completed"
    },
    "tags": []
   },
   "source": [
    "In this histogram, we can see that approximately half of the samples age is between 55 to 65 years old. The rest are from 40s to 70s. There are also a few samples for 30-40 and 70 above."
   ]
  },
  {
   "cell_type": "markdown",
   "id": "bc6441bd",
   "metadata": {
    "papermill": {
     "duration": 0.09899,
     "end_time": "2022-03-17T05:56:22.924721",
     "exception": false,
     "start_time": "2022-03-17T05:56:22.825731",
     "status": "completed"
    },
    "tags": []
   },
   "source": [
    "## 3.3 Heart Disease Frequency per Chest Pain Type\n",
    "3. cp - chest pain type\n",
    "    * 0: Typical angina: chest pain related decrease blood supply to the heart\n",
    "    * 1: Atypical angina: chest pain not related to heart\n",
    "    * 2: Non-anginal pain: typically esophageal spasms (non heart related)\n",
    "    * 3: Asymptomatic: chest pain not showing signs of disease"
   ]
  },
  {
   "cell_type": "code",
   "execution_count": 15,
   "id": "90c2ff84",
   "metadata": {
    "execution": {
     "iopub.execute_input": "2022-03-17T05:56:23.143142Z",
     "iopub.status.busy": "2022-03-17T05:56:23.134508Z",
     "iopub.status.idle": "2022-03-17T05:56:23.147557Z",
     "shell.execute_reply": "2022-03-17T05:56:23.146992Z",
     "shell.execute_reply.started": "2022-03-17T05:17:22.737152Z"
    },
    "papermill": {
     "duration": 0.123438,
     "end_time": "2022-03-17T05:56:23.147736",
     "exception": false,
     "start_time": "2022-03-17T05:56:23.024298",
     "status": "completed"
    },
    "tags": []
   },
   "outputs": [
    {
     "data": {
      "text/html": [
       "<div>\n",
       "<style scoped>\n",
       "    .dataframe tbody tr th:only-of-type {\n",
       "        vertical-align: middle;\n",
       "    }\n",
       "\n",
       "    .dataframe tbody tr th {\n",
       "        vertical-align: top;\n",
       "    }\n",
       "\n",
       "    .dataframe thead th {\n",
       "        text-align: right;\n",
       "    }\n",
       "</style>\n",
       "<table border=\"1\" class=\"dataframe\">\n",
       "  <thead>\n",
       "    <tr style=\"text-align: right;\">\n",
       "      <th>target</th>\n",
       "      <th>0</th>\n",
       "      <th>1</th>\n",
       "    </tr>\n",
       "    <tr>\n",
       "      <th>cp</th>\n",
       "      <th></th>\n",
       "      <th></th>\n",
       "    </tr>\n",
       "  </thead>\n",
       "  <tbody>\n",
       "    <tr>\n",
       "      <th>0</th>\n",
       "      <td>104</td>\n",
       "      <td>39</td>\n",
       "    </tr>\n",
       "    <tr>\n",
       "      <th>1</th>\n",
       "      <td>9</td>\n",
       "      <td>41</td>\n",
       "    </tr>\n",
       "    <tr>\n",
       "      <th>2</th>\n",
       "      <td>18</td>\n",
       "      <td>69</td>\n",
       "    </tr>\n",
       "    <tr>\n",
       "      <th>3</th>\n",
       "      <td>7</td>\n",
       "      <td>16</td>\n",
       "    </tr>\n",
       "  </tbody>\n",
       "</table>\n",
       "</div>"
      ],
      "text/plain": [
       "target    0   1\n",
       "cp             \n",
       "0       104  39\n",
       "1         9  41\n",
       "2        18  69\n",
       "3         7  16"
      ]
     },
     "execution_count": 15,
     "metadata": {},
     "output_type": "execute_result"
    }
   ],
   "source": [
    "pd.crosstab(df.cp,df.target)"
   ]
  },
  {
   "cell_type": "code",
   "execution_count": 16,
   "id": "185f24ef",
   "metadata": {
    "execution": {
     "iopub.execute_input": "2022-03-17T05:56:23.368436Z",
     "iopub.status.busy": "2022-03-17T05:56:23.357498Z",
     "iopub.status.idle": "2022-03-17T05:56:23.577675Z",
     "shell.execute_reply": "2022-03-17T05:56:23.577093Z",
     "shell.execute_reply.started": "2022-03-17T05:17:22.760794Z"
    },
    "papermill": {
     "duration": 0.328674,
     "end_time": "2022-03-17T05:56:23.577830",
     "exception": false,
     "start_time": "2022-03-17T05:56:23.249156",
     "status": "completed"
    },
    "scrolled": true,
    "tags": []
   },
   "outputs": [
    {
     "data": {
      "text/plain": [
       "(array([0, 1, 2, 3]),\n",
       " [Text(0, 0, '0'), Text(1, 0, '1'), Text(2, 0, '2'), Text(3, 0, '3')])"
      ]
     },
     "execution_count": 16,
     "metadata": {},
     "output_type": "execute_result"
    },
    {
     "data": {
      "image/png": "[encoded data removed]",
      "text/plain": [
       "<Figure size 720x432 with 1 Axes>"
      ]
     },
     "metadata": {
      "needs_background": "light"
     },
     "output_type": "display_data"
    }
   ],
   "source": [
    "# Make corsstab visualise\n",
    "pd.crosstab(df.cp,df.target).plot(kind=\"bar\",figsize=(10,6),color=[\"salmon\",\"lightblue\"])\n",
    "\n",
    "plt.title(\"Heart Disease Frequency Per Chest Pain Type\")\n",
    "plt.xlabel(\"CHest Pain Type\")\n",
    "plt.ylabel(\"Amount\")\n",
    "plt.legend([\"No Disease\",\"Disease\"])\n",
    "plt.xticks(rotation=0)"
   ]
  },
  {
   "cell_type": "markdown",
   "id": "4df202b4",
   "metadata": {
    "papermill": {
     "duration": 0.101181,
     "end_time": "2022-03-17T05:56:23.780959",
     "exception": false,
     "start_time": "2022-03-17T05:56:23.679778",
     "status": "completed"
    },
    "tags": []
   },
   "source": [
    "Most of the heart disease patients are suffering on the third chest pain type which is non-aginal pain and some of suffering on the first the chest pain type, typical angina and atypical angina.\n",
    "Although the second and third chest pain type is non related to heart, the data shows patients will suffer on those chest pain types. To make a conclusion, we might need to approach some healthcare professions to ask for their opinions."
   ]
  },
  {
   "cell_type": "markdown",
   "id": "0cdfa24b",
   "metadata": {
    "papermill": {
     "duration": 0.100482,
     "end_time": "2022-03-17T05:56:23.984293",
     "exception": false,
     "start_time": "2022-03-17T05:56:23.883811",
     "status": "completed"
    },
    "tags": []
   },
   "source": [
    "## 3.4 Correlation\n",
    "To see the relationship among the features."
   ]
  },
  {
   "cell_type": "code",
   "execution_count": 17,
   "id": "86c3c44c",
   "metadata": {
    "execution": {
     "iopub.execute_input": "2022-03-17T05:56:24.213521Z",
     "iopub.status.busy": "2022-03-17T05:56:24.191833Z",
     "iopub.status.idle": "2022-03-17T05:56:24.220061Z",
     "shell.execute_reply": "2022-03-17T05:56:24.219476Z",
     "shell.execute_reply.started": "2022-03-17T05:17:23.025689Z"
    },
    "papermill": {
     "duration": 0.134932,
     "end_time": "2022-03-17T05:56:24.220212",
     "exception": false,
     "start_time": "2022-03-17T05:56:24.085280",
     "status": "completed"
    },
    "tags": []
   },
   "outputs": [
    {
     "data": {
      "text/html": [
       "<div>\n",
       "<style scoped>\n",
       "    .dataframe tbody tr th:only-of-type {\n",
       "        vertical-align: middle;\n",
       "    }\n",
       "\n",
       "    .dataframe tbody tr th {\n",
       "        vertical-align: top;\n",
       "    }\n",
       "\n",
       "    .dataframe thead th {\n",
       "        text-align: right;\n",
       "    }\n",
       "</style>\n",
       "<table border=\"1\" class=\"dataframe\">\n",
       "  <thead>\n",
       "    <tr style=\"text-align: right;\">\n",
       "      <th></th>\n",
       "      <th>age</th>\n",
       "      <th>sex</th>\n",
       "      <th>cp</th>\n",
       "      <th>trestbps</th>\n",
       "      <th>chol</th>\n",
       "      <th>fbs</th>\n",
       "      <th>restecg</th>\n",
       "      <th>thalach</th>\n",
       "      <th>exang</th>\n",
       "      <th>oldpeak</th>\n",
       "      <th>slope</th>\n",
       "      <th>ca</th>\n",
       "      <th>thal</th>\n",
       "      <th>target</th>\n",
       "    </tr>\n",
       "  </thead>\n",
       "  <tbody>\n",
       "    <tr>\n",
       "      <th>age</th>\n",
       "      <td>1.000000</td>\n",
       "      <td>-0.098447</td>\n",
       "      <td>-0.068653</td>\n",
       "      <td>0.279351</td>\n",
       "      <td>0.213678</td>\n",
       "      <td>0.121308</td>\n",
       "      <td>-0.116211</td>\n",
       "      <td>-0.398522</td>\n",
       "      <td>0.096801</td>\n",
       "      <td>0.210013</td>\n",
       "      <td>-0.168814</td>\n",
       "      <td>0.276326</td>\n",
       "      <td>0.068001</td>\n",
       "      <td>-0.225439</td>\n",
       "    </tr>\n",
       "    <tr>\n",
       "      <th>sex</th>\n",
       "      <td>-0.098447</td>\n",
       "      <td>1.000000</td>\n",
       "      <td>-0.049353</td>\n",
       "      <td>-0.056769</td>\n",
       "      <td>-0.197912</td>\n",
       "      <td>0.045032</td>\n",
       "      <td>-0.058196</td>\n",
       "      <td>-0.044020</td>\n",
       "      <td>0.141664</td>\n",
       "      <td>0.096093</td>\n",
       "      <td>-0.030711</td>\n",
       "      <td>0.118261</td>\n",
       "      <td>0.210041</td>\n",
       "      <td>-0.280937</td>\n",
       "    </tr>\n",
       "    <tr>\n",
       "      <th>cp</th>\n",
       "      <td>-0.068653</td>\n",
       "      <td>-0.049353</td>\n",
       "      <td>1.000000</td>\n",
       "      <td>0.047608</td>\n",
       "      <td>-0.076904</td>\n",
       "      <td>0.094444</td>\n",
       "      <td>0.044421</td>\n",
       "      <td>0.295762</td>\n",
       "      <td>-0.394280</td>\n",
       "      <td>-0.149230</td>\n",
       "      <td>0.119717</td>\n",
       "      <td>-0.181053</td>\n",
       "      <td>-0.161736</td>\n",
       "      <td>0.433798</td>\n",
       "    </tr>\n",
       "    <tr>\n",
       "      <th>trestbps</th>\n",
       "      <td>0.279351</td>\n",
       "      <td>-0.056769</td>\n",
       "      <td>0.047608</td>\n",
       "      <td>1.000000</td>\n",
       "      <td>0.123174</td>\n",
       "      <td>0.177531</td>\n",
       "      <td>-0.114103</td>\n",
       "      <td>-0.046698</td>\n",
       "      <td>0.067616</td>\n",
       "      <td>0.193216</td>\n",
       "      <td>-0.121475</td>\n",
       "      <td>0.101389</td>\n",
       "      <td>0.062210</td>\n",
       "      <td>-0.144931</td>\n",
       "    </tr>\n",
       "    <tr>\n",
       "      <th>chol</th>\n",
       "      <td>0.213678</td>\n",
       "      <td>-0.197912</td>\n",
       "      <td>-0.076904</td>\n",
       "      <td>0.123174</td>\n",
       "      <td>1.000000</td>\n",
       "      <td>0.013294</td>\n",
       "      <td>-0.151040</td>\n",
       "      <td>-0.009940</td>\n",
       "      <td>0.067023</td>\n",
       "      <td>0.053952</td>\n",
       "      <td>-0.004038</td>\n",
       "      <td>0.070511</td>\n",
       "      <td>0.098803</td>\n",
       "      <td>-0.085239</td>\n",
       "    </tr>\n",
       "    <tr>\n",
       "      <th>fbs</th>\n",
       "      <td>0.121308</td>\n",
       "      <td>0.045032</td>\n",
       "      <td>0.094444</td>\n",
       "      <td>0.177531</td>\n",
       "      <td>0.013294</td>\n",
       "      <td>1.000000</td>\n",
       "      <td>-0.084189</td>\n",
       "      <td>-0.008567</td>\n",
       "      <td>0.025665</td>\n",
       "      <td>0.005747</td>\n",
       "      <td>-0.059894</td>\n",
       "      <td>0.137979</td>\n",
       "      <td>-0.032019</td>\n",
       "      <td>-0.028046</td>\n",
       "    </tr>\n",
       "    <tr>\n",
       "      <th>restecg</th>\n",
       "      <td>-0.116211</td>\n",
       "      <td>-0.058196</td>\n",
       "      <td>0.044421</td>\n",
       "      <td>-0.114103</td>\n",
       "      <td>-0.151040</td>\n",
       "      <td>-0.084189</td>\n",
       "      <td>1.000000</td>\n",
       "      <td>0.044123</td>\n",
       "      <td>-0.070733</td>\n",
       "      <td>-0.058770</td>\n",
       "      <td>0.093045</td>\n",
       "      <td>-0.072042</td>\n",
       "      <td>-0.011981</td>\n",
       "      <td>0.137230</td>\n",
       "    </tr>\n",
       "    <tr>\n",
       "      <th>thalach</th>\n",
       "      <td>-0.398522</td>\n",
       "      <td>-0.044020</td>\n",
       "      <td>0.295762</td>\n",
       "      <td>-0.046698</td>\n",
       "      <td>-0.009940</td>\n",
       "      <td>-0.008567</td>\n",
       "      <td>0.044123</td>\n",
       "      <td>1.000000</td>\n",
       "      <td>-0.378812</td>\n",
       "      <td>-0.344187</td>\n",
       "      <td>0.386784</td>\n",
       "      <td>-0.213177</td>\n",
       "      <td>-0.096439</td>\n",
       "      <td>0.421741</td>\n",
       "    </tr>\n",
       "    <tr>\n",
       "      <th>exang</th>\n",
       "      <td>0.096801</td>\n",
       "      <td>0.141664</td>\n",
       "      <td>-0.394280</td>\n",
       "      <td>0.067616</td>\n",
       "      <td>0.067023</td>\n",
       "      <td>0.025665</td>\n",
       "      <td>-0.070733</td>\n",
       "      <td>-0.378812</td>\n",
       "      <td>1.000000</td>\n",
       "      <td>0.288223</td>\n",
       "      <td>-0.257748</td>\n",
       "      <td>0.115739</td>\n",
       "      <td>0.206754</td>\n",
       "      <td>-0.436757</td>\n",
       "    </tr>\n",
       "    <tr>\n",
       "      <th>oldpeak</th>\n",
       "      <td>0.210013</td>\n",
       "      <td>0.096093</td>\n",
       "      <td>-0.149230</td>\n",
       "      <td>0.193216</td>\n",
       "      <td>0.053952</td>\n",
       "      <td>0.005747</td>\n",
       "      <td>-0.058770</td>\n",
       "      <td>-0.344187</td>\n",
       "      <td>0.288223</td>\n",
       "      <td>1.000000</td>\n",
       "      <td>-0.577537</td>\n",
       "      <td>0.222682</td>\n",
       "      <td>0.210244</td>\n",
       "      <td>-0.430696</td>\n",
       "    </tr>\n",
       "    <tr>\n",
       "      <th>slope</th>\n",
       "      <td>-0.168814</td>\n",
       "      <td>-0.030711</td>\n",
       "      <td>0.119717</td>\n",
       "      <td>-0.121475</td>\n",
       "      <td>-0.004038</td>\n",
       "      <td>-0.059894</td>\n",
       "      <td>0.093045</td>\n",
       "      <td>0.386784</td>\n",
       "      <td>-0.257748</td>\n",
       "      <td>-0.577537</td>\n",
       "      <td>1.000000</td>\n",
       "      <td>-0.080155</td>\n",
       "      <td>-0.104764</td>\n",
       "      <td>0.345877</td>\n",
       "    </tr>\n",
       "    <tr>\n",
       "      <th>ca</th>\n",
       "      <td>0.276326</td>\n",
       "      <td>0.118261</td>\n",
       "      <td>-0.181053</td>\n",
       "      <td>0.101389</td>\n",
       "      <td>0.070511</td>\n",
       "      <td>0.137979</td>\n",
       "      <td>-0.072042</td>\n",
       "      <td>-0.213177</td>\n",
       "      <td>0.115739</td>\n",
       "      <td>0.222682</td>\n",
       "      <td>-0.080155</td>\n",
       "      <td>1.000000</td>\n",
       "      <td>0.151832</td>\n",
       "      <td>-0.391724</td>\n",
       "    </tr>\n",
       "    <tr>\n",
       "      <th>thal</th>\n",
       "      <td>0.068001</td>\n",
       "      <td>0.210041</td>\n",
       "      <td>-0.161736</td>\n",
       "      <td>0.062210</td>\n",
       "      <td>0.098803</td>\n",
       "      <td>-0.032019</td>\n",
       "      <td>-0.011981</td>\n",
       "      <td>-0.096439</td>\n",
       "      <td>0.206754</td>\n",
       "      <td>0.210244</td>\n",
       "      <td>-0.104764</td>\n",
       "      <td>0.151832</td>\n",
       "      <td>1.000000</td>\n",
       "      <td>-0.344029</td>\n",
       "    </tr>\n",
       "    <tr>\n",
       "      <th>target</th>\n",
       "      <td>-0.225439</td>\n",
       "      <td>-0.280937</td>\n",
       "      <td>0.433798</td>\n",
       "      <td>-0.144931</td>\n",
       "      <td>-0.085239</td>\n",
       "      <td>-0.028046</td>\n",
       "      <td>0.137230</td>\n",
       "      <td>0.421741</td>\n",
       "      <td>-0.436757</td>\n",
       "      <td>-0.430696</td>\n",
       "      <td>0.345877</td>\n",
       "      <td>-0.391724</td>\n",
       "      <td>-0.344029</td>\n",
       "      <td>1.000000</td>\n",
       "    </tr>\n",
       "  </tbody>\n",
       "</table>\n",
       "</div>"
      ],
      "text/plain": [
       "               age       sex        cp  trestbps      chol       fbs  \\\n",
       "age       1.000000 -0.098447 -0.068653  0.279351  0.213678  0.121308   \n",
       "sex      -0.098447  1.000000 -0.049353 -0.056769 -0.197912  0.045032   \n",
       "cp       -0.068653 -0.049353  1.000000  0.047608 -0.076904  0.094444   \n",
       "trestbps  0.279351 -0.056769  0.047608  1.000000  0.123174  0.177531   \n",
       "chol      0.213678 -0.197912 -0.076904  0.123174  1.000000  0.013294   \n",
       "fbs       0.121308  0.045032  0.094444  0.177531  0.013294  1.000000   \n",
       "restecg  -0.116211 -0.058196  0.044421 -0.114103 -0.151040 -0.084189   \n",
       "thalach  -0.398522 -0.044020  0.295762 -0.046698 -0.009940 -0.008567   \n",
       "exang     0.096801  0.141664 -0.394280  0.067616  0.067023  0.025665   \n",
       "oldpeak   0.210013  0.096093 -0.149230  0.193216  0.053952  0.005747   \n",
       "slope    -0.168814 -0.030711  0.119717 -0.121475 -0.004038 -0.059894   \n",
       "ca        0.276326  0.118261 -0.181053  0.101389  0.070511  0.137979   \n",
       "thal      0.068001  0.210041 -0.161736  0.062210  0.098803 -0.032019   \n",
       "target   -0.225439 -0.280937  0.433798 -0.144931 -0.085239 -0.028046   \n",
       "\n",
       "           restecg   thalach     exang   oldpeak     slope        ca  \\\n",
       "age      -0.116211 -0.398522  0.096801  0.210013 -0.168814  0.276326   \n",
       "sex      -0.058196 -0.044020  0.141664  0.096093 -0.030711  0.118261   \n",
       "cp        0.044421  0.295762 -0.394280 -0.149230  0.119717 -0.181053   \n",
       "trestbps -0.114103 -0.046698  0.067616  0.193216 -0.121475  0.101389   \n",
       "chol     -0.151040 -0.009940  0.067023  0.053952 -0.004038  0.070511   \n",
       "fbs      -0.084189 -0.008567  0.025665  0.005747 -0.059894  0.137979   \n",
       "restecg   1.000000  0.044123 -0.070733 -0.058770  0.093045 -0.072042   \n",
       "thalach   0.044123  1.000000 -0.378812 -0.344187  0.386784 -0.213177   \n",
       "exang    -0.070733 -0.378812  1.000000  0.288223 -0.257748  0.115739   \n",
       "oldpeak  -0.058770 -0.344187  0.288223  1.000000 -0.577537  0.222682   \n",
       "slope     0.093045  0.386784 -0.257748 -0.577537  1.000000 -0.080155   \n",
       "ca       -0.072042 -0.213177  0.115739  0.222682 -0.080155  1.000000   \n",
       "thal     -0.011981 -0.096439  0.206754  0.210244 -0.104764  0.151832   \n",
       "target    0.137230  0.421741 -0.436757 -0.430696  0.345877 -0.391724   \n",
       "\n",
       "              thal    target  \n",
       "age       0.068001 -0.225439  \n",
       "sex       0.210041 -0.280937  \n",
       "cp       -0.161736  0.433798  \n",
       "trestbps  0.062210 -0.144931  \n",
       "chol      0.098803 -0.085239  \n",
       "fbs      -0.032019 -0.028046  \n",
       "restecg  -0.011981  0.137230  \n",
       "thalach  -0.096439  0.421741  \n",
       "exang     0.206754 -0.436757  \n",
       "oldpeak   0.210244 -0.430696  \n",
       "slope    -0.104764  0.345877  \n",
       "ca        0.151832 -0.391724  \n",
       "thal      1.000000 -0.344029  \n",
       "target   -0.344029  1.000000  "
      ]
     },
     "execution_count": 17,
     "metadata": {},
     "output_type": "execute_result"
    }
   ],
   "source": [
    "#Make a correlation matrix\n",
    "df.corr()"
   ]
  },
  {
   "cell_type": "code",
   "execution_count": 18,
   "id": "81f2414b",
   "metadata": {
    "execution": {
     "iopub.execute_input": "2022-03-17T05:56:24.475922Z",
     "iopub.status.busy": "2022-03-17T05:56:24.448425Z",
     "iopub.status.idle": "2022-03-17T05:56:25.624924Z",
     "shell.execute_reply": "2022-03-17T05:56:25.624100Z",
     "shell.execute_reply.started": "2022-03-17T05:17:23.056307Z"
    },
    "papermill": {
     "duration": 1.301755,
     "end_time": "2022-03-17T05:56:25.625074",
     "exception": false,
     "start_time": "2022-03-17T05:56:24.323319",
     "status": "completed"
    },
    "scrolled": true,
    "tags": []
   },
   "outputs": [
    {
     "data": {
      "text/plain": [
       "(14.5, -0.5)"
      ]
     },
     "execution_count": 18,
     "metadata": {},
     "output_type": "execute_result"
    },
    {
     "data": {
      "image/png": "[encoded data removed]",
      "text/plain": [
       "<Figure size 1080x720 with 2 Axes>"
      ]
     },
     "metadata": {
      "needs_background": "light"
     },
     "output_type": "display_data"
    }
   ],
   "source": [
    "#Visualise correlation\n",
    "corr_matrix = df.corr()\n",
    "fig,ax = plt.subplots(figsize=(15,10))\n",
    "ax=sns.heatmap(corr_matrix,annot=True,linewidths=0.5,fmt=\".2f\",cmap=\"YlGnBu\");\n",
    "bottom, top = ax.get_ylim()\n",
    "ax.set_ylim(bottom + 0.5, top-0.5)"
   ]
  },
  {
   "cell_type": "markdown",
   "id": "d82ac184",
   "metadata": {
    "papermill": {
     "duration": 0.069614,
     "end_time": "2022-03-17T05:56:25.791600",
     "exception": false,
     "start_time": "2022-03-17T05:56:25.721986",
     "status": "completed"
    },
    "tags": []
   },
   "source": [
    "1. Positive correlation, both variables increase or decrease in same direction\n",
    "2. Negative correlation, one variable increase and one variable decrease vice versa\n",
    "\n",
    "Result1: Chest pain and target have positive correlation\n",
    "-> Higher chest pain level, more targets may get heart disease\n"
   ]
  },
  {
   "cell_type": "markdown",
   "id": "0f95e491",
   "metadata": {
    "papermill": {
     "duration": 0.069154,
     "end_time": "2022-03-17T05:56:25.931788",
     "exception": false,
     "start_time": "2022-03-17T05:56:25.862634",
     "status": "completed"
    },
    "tags": []
   },
   "source": [
    "# 4.0 Modelling\n",
    "\n",
    "## Split data to training and test sets"
   ]
  },
  {
   "cell_type": "code",
   "execution_count": 19,
   "id": "8bd50507",
   "metadata": {
    "execution": {
     "iopub.execute_input": "2022-03-17T05:56:26.076450Z",
     "iopub.status.busy": "2022-03-17T05:56:26.075811Z",
     "iopub.status.idle": "2022-03-17T05:56:26.078607Z",
     "shell.execute_reply": "2022-03-17T05:56:26.078193Z",
     "shell.execute_reply.started": "2022-03-17T05:17:24.493362Z"
    },
    "papermill": {
     "duration": 0.0777,
     "end_time": "2022-03-17T05:56:26.078746",
     "exception": false,
     "start_time": "2022-03-17T05:56:26.001046",
     "status": "completed"
    },
    "tags": []
   },
   "outputs": [],
   "source": [
    "#Split data into X and y for training features and target variable\n",
    "X=df.drop(\"target\",axis=1)\n",
    "y=df[\"target\"]"
   ]
  },
  {
   "cell_type": "code",
   "execution_count": 20,
   "id": "689d2c88",
   "metadata": {
    "execution": {
     "iopub.execute_input": "2022-03-17T05:56:26.223211Z",
     "iopub.status.busy": "2022-03-17T05:56:26.222345Z",
     "iopub.status.idle": "2022-03-17T05:56:26.225337Z",
     "shell.execute_reply": "2022-03-17T05:56:26.224741Z",
     "shell.execute_reply.started": "2022-03-17T05:17:24.502326Z"
    },
    "papermill": {
     "duration": 0.077536,
     "end_time": "2022-03-17T05:56:26.225483",
     "exception": false,
     "start_time": "2022-03-17T05:56:26.147947",
     "status": "completed"
    },
    "tags": []
   },
   "outputs": [],
   "source": [
    "#Split data into train and test sets\n",
    "np.random.seed(42)\n",
    "X_train,X_test,y_train,y_test = train_test_split(X,y,test_size=0.2)"
   ]
  },
  {
   "cell_type": "markdown",
   "id": "5540ec39",
   "metadata": {
    "papermill": {
     "duration": 0.107118,
     "end_time": "2022-03-17T05:56:26.439457",
     "exception": false,
     "start_time": "2022-03-17T05:56:26.332339",
     "status": "completed"
    },
    "tags": []
   },
   "source": [
    "## 4.1 Train base models\n",
    "### 3 different Machine Learning models:\n",
    "1. Logistic Regression\n",
    "2. K-Nearest Neighbors Classifiers\n",
    "3. Random Forest Classifiers\n"
   ]
  },
  {
   "cell_type": "code",
   "execution_count": 21,
   "id": "384a4cb8",
   "metadata": {
    "execution": {
     "iopub.execute_input": "2022-03-17T05:56:26.661516Z",
     "iopub.status.busy": "2022-03-17T05:56:26.660854Z",
     "iopub.status.idle": "2022-03-17T05:56:26.663071Z",
     "shell.execute_reply": "2022-03-17T05:56:26.663579Z",
     "shell.execute_reply.started": "2022-03-17T05:17:24.517724Z"
    },
    "papermill": {
     "duration": 0.116764,
     "end_time": "2022-03-17T05:56:26.663764",
     "exception": false,
     "start_time": "2022-03-17T05:56:26.547000",
     "status": "completed"
    },
    "tags": []
   },
   "outputs": [],
   "source": [
    "#Put models in a dictionary\n",
    "\n",
    "models = {\"Logistic Regression\": LogisticRegression(),\n",
    "         \"KNN\": KNeighborsClassifier(),\n",
    "         \"Random Forest\": RandomForestClassifier()}\n",
    "\n",
    "#Create function to fit and score models\n",
    "def fit_and_score(models, X_train, X_test, y_train, y_test):\n",
    "    \"\"\"\n",
    "    Fits and evaluates given machine learning models.\n",
    "    models : a dict of differetn Scikit-Learn machine learning models\n",
    "    X_train : training data (no labels)\n",
    "    X_test : testing data (no labels)\n",
    "    y_train : training labels\n",
    "    y_test : test labels\n",
    "    \"\"\"\n",
    "    #set random seed\n",
    "    np.random.seed(42)\n",
    "    #dictionary to keep model scores\n",
    "    model_scores = {}\n",
    "    #loop thru models\n",
    "    for name, model in models.items():\n",
    "        #fit model\n",
    "        model.fit(X_train, y_train)\n",
    "        #evaluate model and append score\n",
    "        model_scores[name]=model.score(X_test, y_test)\n",
    "    return model_scores"
   ]
  },
  {
   "cell_type": "code",
   "execution_count": 22,
   "id": "5827449b",
   "metadata": {
    "execution": {
     "iopub.execute_input": "2022-03-17T05:56:26.887211Z",
     "iopub.status.busy": "2022-03-17T05:56:26.886668Z",
     "iopub.status.idle": "2022-03-17T05:56:27.068903Z",
     "shell.execute_reply": "2022-03-17T05:56:27.068458Z",
     "shell.execute_reply.started": "2022-03-17T05:17:24.531772Z"
    },
    "papermill": {
     "duration": 0.299882,
     "end_time": "2022-03-17T05:56:27.069008",
     "exception": false,
     "start_time": "2022-03-17T05:56:26.769126",
     "status": "completed"
    },
    "scrolled": true,
    "tags": []
   },
   "outputs": [
    {
     "name": "stderr",
     "output_type": "stream",
     "text": [
      "/opt/conda/lib/python3.7/site-packages/sklearn/linear_model/_logistic.py:818: ConvergenceWarning: lbfgs failed to converge (status=1):\n",
      "STOP: TOTAL NO. of ITERATIONS REACHED LIMIT.\n",
      "\n",
      "Increase the number of iterations (max_iter) or scale the data as shown in:\n",
      "    https://scikit-learn.org/stable/modules/preprocessing.html\n",
      "Please also refer to the documentation for alternative solver options:\n",
      "    https://scikit-learn.org/stable/modules/linear_model.html#logistic-regression\n",
      "  extra_warning_msg=_LOGISTIC_SOLVER_CONVERGENCE_MSG,\n"
     ]
    },
    {
     "data": {
      "text/plain": [
       "{'Logistic Regression': 0.8852459016393442,\n",
       " 'KNN': 0.6885245901639344,\n",
       " 'Random Forest': 0.8360655737704918}"
      ]
     },
     "execution_count": 22,
     "metadata": {},
     "output_type": "execute_result"
    }
   ],
   "source": [
    "model_scores = fit_and_score(models=models, X_train=X_train, X_test=X_test, y_train=y_train, y_test=y_test)\n",
    "model_scores"
   ]
  },
  {
   "cell_type": "markdown",
   "id": "93b72157",
   "metadata": {
    "papermill": {
     "duration": 0.06981,
     "end_time": "2022-03-17T05:56:27.208119",
     "exception": false,
     "start_time": "2022-03-17T05:56:27.138309",
     "status": "completed"
    },
    "tags": []
   },
   "source": [
    "### 4.1.1 Base Model Comparison"
   ]
  },
  {
   "cell_type": "code",
   "execution_count": 23,
   "id": "d45ed11b",
   "metadata": {
    "execution": {
     "iopub.execute_input": "2022-03-17T05:56:27.359203Z",
     "iopub.status.busy": "2022-03-17T05:56:27.358717Z",
     "iopub.status.idle": "2022-03-17T05:56:27.519457Z",
     "shell.execute_reply": "2022-03-17T05:56:27.519003Z",
     "shell.execute_reply.started": "2022-03-17T05:17:24.780132Z"
    },
    "papermill": {
     "duration": 0.240767,
     "end_time": "2022-03-17T05:56:27.519572",
     "exception": false,
     "start_time": "2022-03-17T05:56:27.278805",
     "status": "completed"
    },
    "tags": []
   },
   "outputs": [
    {
     "data": {
      "text/plain": [
       "<AxesSubplot:>"
      ]
     },
     "execution_count": 23,
     "metadata": {},
     "output_type": "execute_result"
    },
    {
     "data": {
      "image/png": "[encoded data removed]",
      "text/plain": [
       "<Figure size 432x288 with 1 Axes>"
      ]
     },
     "metadata": {
      "needs_background": "light"
     },
     "output_type": "display_data"
    }
   ],
   "source": [
    "model_compare = pd.DataFrame(model_scores, index=[\"accuracy\"])\n",
    "model_compare.T.plot.bar()"
   ]
  },
  {
   "cell_type": "markdown",
   "id": "60cb7fb3",
   "metadata": {
    "papermill": {
     "duration": 0.071865,
     "end_time": "2022-03-17T05:56:27.663008",
     "exception": false,
     "start_time": "2022-03-17T05:56:27.591143",
     "status": "completed"
    },
    "tags": []
   },
   "source": [
    "For base model, Logistic Regression and Random Forest works way more better than KNN."
   ]
  },
  {
   "cell_type": "markdown",
   "id": "bb6d7148",
   "metadata": {
    "papermill": {
     "duration": 0.071761,
     "end_time": "2022-03-17T05:56:27.806209",
     "exception": false,
     "start_time": "2022-03-17T05:56:27.734448",
     "status": "completed"
    },
    "tags": []
   },
   "source": [
    "Let's look at the following:\n",
    "* Hypyterparameter tuning\n",
    "* Feature importance\n",
    "* Confusion matrix\n",
    "* Cross-validation\n",
    "* Precision\n",
    "* Recall\n",
    "* F1 score\n",
    "* Classification report\n",
    "* ROC curve\n",
    "* Area under the curve(AUC)\n",
    "\n",
    "## 4.2 Hyperparameter tuning\n",
    "\n",
    "### Ways to tune hyperparameters\n",
    "1. by hand\n",
    "2. RandomizedSearchCV\n",
    "3. GridSearchCV\n",
    "\n",
    "### 4.2.1 Tune by hand"
   ]
  },
  {
   "cell_type": "code",
   "execution_count": 24,
   "id": "76a199d4",
   "metadata": {
    "execution": {
     "iopub.execute_input": "2022-03-17T05:56:27.988538Z",
     "iopub.status.busy": "2022-03-17T05:56:27.988023Z",
     "iopub.status.idle": "2022-03-17T05:56:28.392593Z",
     "shell.execute_reply": "2022-03-17T05:56:28.392159Z",
     "shell.execute_reply.started": "2022-03-17T05:17:24.988237Z"
    },
    "papermill": {
     "duration": 0.507445,
     "end_time": "2022-03-17T05:56:28.392725",
     "exception": false,
     "start_time": "2022-03-17T05:56:27.885280",
     "status": "completed"
    },
    "tags": []
   },
   "outputs": [],
   "source": [
    "#Tune knn\n",
    "train_scores = []\n",
    "test_scores = []\n",
    "\n",
    "#list for different values of n-neighbors\n",
    "neighbors = range(1,21)\n",
    "\n",
    "#set up knn instance\n",
    "knn = KNeighborsClassifier()\n",
    "\n",
    "#loop thru list\n",
    "for i in neighbors:\n",
    "    knn.set_params(n_neighbors=i)\n",
    "    \n",
    "    #fit the model\n",
    "    knn.fit(X_train, y_train)\n",
    "    \n",
    "    # Update the training scores list\n",
    "    train_scores.append(knn.score(X_train, y_train))\n",
    "    \n",
    "    # Update the test scores list\n",
    "    test_scores.append(knn.score(X_test, y_test))\n",
    "    "
   ]
  },
  {
   "cell_type": "code",
   "execution_count": 25,
   "id": "a87d2f97",
   "metadata": {
    "execution": {
     "iopub.execute_input": "2022-03-17T05:56:28.542165Z",
     "iopub.status.busy": "2022-03-17T05:56:28.541609Z",
     "iopub.status.idle": "2022-03-17T05:56:28.543603Z",
     "shell.execute_reply": "2022-03-17T05:56:28.543992Z",
     "shell.execute_reply.started": "2022-03-17T05:17:25.381278Z"
    },
    "papermill": {
     "duration": 0.07978,
     "end_time": "2022-03-17T05:56:28.544126",
     "exception": false,
     "start_time": "2022-03-17T05:56:28.464346",
     "status": "completed"
    },
    "tags": []
   },
   "outputs": [
    {
     "data": {
      "text/plain": [
       "[0.6229508196721312,\n",
       " 0.639344262295082,\n",
       " 0.6557377049180327,\n",
       " 0.6721311475409836,\n",
       " 0.6885245901639344,\n",
       " 0.7213114754098361,\n",
       " 0.7049180327868853,\n",
       " 0.6885245901639344,\n",
       " 0.6885245901639344,\n",
       " 0.7049180327868853,\n",
       " 0.7540983606557377,\n",
       " 0.7377049180327869,\n",
       " 0.7377049180327869,\n",
       " 0.7377049180327869,\n",
       " 0.6885245901639344,\n",
       " 0.7213114754098361,\n",
       " 0.6885245901639344,\n",
       " 0.6885245901639344,\n",
       " 0.7049180327868853,\n",
       " 0.6557377049180327]"
      ]
     },
     "execution_count": 25,
     "metadata": {},
     "output_type": "execute_result"
    }
   ],
   "source": [
    "test_scores"
   ]
  },
  {
   "cell_type": "code",
   "execution_count": 26,
   "id": "41d111f9",
   "metadata": {
    "execution": {
     "iopub.execute_input": "2022-03-17T05:56:28.709914Z",
     "iopub.status.busy": "2022-03-17T05:56:28.709396Z",
     "iopub.status.idle": "2022-03-17T05:56:28.946886Z",
     "shell.execute_reply": "2022-03-17T05:56:28.946494Z",
     "shell.execute_reply.started": "2022-03-17T05:17:25.392947Z"
    },
    "papermill": {
     "duration": 0.330274,
     "end_time": "2022-03-17T05:56:28.947011",
     "exception": false,
     "start_time": "2022-03-17T05:56:28.616737",
     "status": "completed"
    },
    "tags": []
   },
   "outputs": [
    {
     "name": "stdout",
     "output_type": "stream",
     "text": [
      "Maximum KNN score on the test data: 75.41%\n"
     ]
    },
    {
     "data": {
      "image/png": "[encoded data removed]",
      "text/plain": [
       "<Figure size 432x288 with 1 Axes>"
      ]
     },
     "metadata": {
      "needs_background": "light"
     },
     "output_type": "display_data"
    }
   ],
   "source": [
    "plt.plot(neighbors, train_scores, label=\"Train score\")\n",
    "plt.plot(neighbors, test_scores, label=\"Test score\")\n",
    "plt.xticks(np.arange(1, 21, 1))\n",
    "plt.xlabel(\"Number of neighbors\")\n",
    "plt.ylabel(\"Model score\")\n",
    "plt.legend()\n",
    "\n",
    "print(f\"Maximum KNN score on the test data: {max(test_scores)*100:.2f}%\")"
   ]
  },
  {
   "cell_type": "markdown",
   "id": "c4776dfa",
   "metadata": {
    "execution": {
     "iopub.execute_input": "2022-03-17T04:07:58.776924Z",
     "iopub.status.busy": "2022-03-17T04:07:58.776192Z",
     "iopub.status.idle": "2022-03-17T04:07:58.783599Z",
     "shell.execute_reply": "2022-03-17T04:07:58.782305Z",
     "shell.execute_reply.started": "2022-03-17T04:07:58.776876Z"
    },
    "papermill": {
     "duration": 0.072573,
     "end_time": "2022-03-17T05:56:29.092155",
     "exception": false,
     "start_time": "2022-03-17T05:56:29.019582",
     "status": "completed"
    },
    "tags": []
   },
   "source": [
    "After tuning the parameter for k value, KNN classifier has imporoved but the performance is still lower than Logistic Regression and Random Forest."
   ]
  },
  {
   "cell_type": "markdown",
   "id": "e0644554",
   "metadata": {
    "papermill": {
     "duration": 0.073352,
     "end_time": "2022-03-17T05:56:29.238984",
     "exception": false,
     "start_time": "2022-03-17T05:56:29.165632",
     "status": "completed"
    },
    "tags": []
   },
   "source": [
    "### 4.2.2 Hyperparameter tuning with RandomizedSearchCV\n",
    "\n",
    "Tune: \n",
    "* LogisticRegression()\n",
    "* RandomForestClassifier()"
   ]
  },
  {
   "cell_type": "code",
   "execution_count": 27,
   "id": "4b1a1670",
   "metadata": {
    "execution": {
     "iopub.execute_input": "2022-03-17T05:56:29.393861Z",
     "iopub.status.busy": "2022-03-17T05:56:29.389848Z",
     "iopub.status.idle": "2022-03-17T05:56:29.396944Z",
     "shell.execute_reply": "2022-03-17T05:56:29.396390Z",
     "shell.execute_reply.started": "2022-03-17T05:17:25.698736Z"
    },
    "papermill": {
     "duration": 0.083734,
     "end_time": "2022-03-17T05:56:29.397086",
     "exception": false,
     "start_time": "2022-03-17T05:56:29.313352",
     "status": "completed"
    },
    "tags": []
   },
   "outputs": [],
   "source": [
    "#Create a hyperparameter grid for LR\n",
    "log_reg_grid = {\"C\": np.logspace(-4,4,20),\n",
    "                \"solver\": [\"liblinear\"]}\n",
    "\n",
    "#Create a hyperparameter grid for RF\n",
    "rf_grid = {\"n_estimators\": np.arange(10,1000,50),\n",
    "          \"max_depth\": [None,3,5,10],\n",
    "          \"min_samples_split\": np.arange(2,20,2),\n",
    "          \"min_samples_leaf\": np.arange(1,20,2)}"
   ]
  },
  {
   "cell_type": "code",
   "execution_count": 28,
   "id": "0d1c62be",
   "metadata": {
    "execution": {
     "iopub.execute_input": "2022-03-17T05:56:29.630087Z",
     "iopub.status.busy": "2022-03-17T05:56:29.629214Z",
     "iopub.status.idle": "2022-03-17T05:56:30.186027Z",
     "shell.execute_reply": "2022-03-17T05:56:30.185401Z",
     "shell.execute_reply.started": "2022-03-17T05:17:25.70685Z"
    },
    "papermill": {
     "duration": 0.677681,
     "end_time": "2022-03-17T05:56:30.186193",
     "exception": false,
     "start_time": "2022-03-17T05:56:29.508512",
     "status": "completed"
    },
    "tags": []
   },
   "outputs": [
    {
     "name": "stdout",
     "output_type": "stream",
     "text": [
      "Fitting 5 folds for each of 20 candidates, totalling 100 fits\n"
     ]
    },
    {
     "data": {
      "text/plain": [
       "RandomizedSearchCV(cv=5, estimator=LogisticRegression(), n_iter=20,\n",
       "                   param_distributions={'C': array([1.00000000e-04, 2.63665090e-04, 6.95192796e-04, 1.83298071e-03,\n",
       "       4.83293024e-03, 1.27427499e-02, 3.35981829e-02, 8.85866790e-02,\n",
       "       2.33572147e-01, 6.15848211e-01, 1.62377674e+00, 4.28133240e+00,\n",
       "       1.12883789e+01, 2.97635144e+01, 7.84759970e+01, 2.06913808e+02,\n",
       "       5.45559478e+02, 1.43844989e+03, 3.79269019e+03, 1.00000000e+04]),\n",
       "                                        'solver': ['liblinear']},\n",
       "                   verbose=True)"
      ]
     },
     "execution_count": 28,
     "metadata": {},
     "output_type": "execute_result"
    }
   ],
   "source": [
    "# Tune LogisticRegression\n",
    "\n",
    "np.random.seed(42)\n",
    "\n",
    "# Setup random hyperparameter search for LogisticRegression\n",
    "rs_log_reg = RandomizedSearchCV(LogisticRegression(),\n",
    "                                param_distributions=log_reg_grid,\n",
    "                                cv=5,\n",
    "                                n_iter=20,\n",
    "                                verbose=True)\n",
    "\n",
    "# Fit random hyperparameter search model for LogisticRegression\n",
    "rs_log_reg.fit(X_train, y_train)"
   ]
  },
  {
   "cell_type": "code",
   "execution_count": 29,
   "id": "e0a3d33c",
   "metadata": {
    "execution": {
     "iopub.execute_input": "2022-03-17T05:56:30.415605Z",
     "iopub.status.busy": "2022-03-17T05:56:30.414960Z",
     "iopub.status.idle": "2022-03-17T05:56:30.418298Z",
     "shell.execute_reply": "2022-03-17T05:56:30.418820Z",
     "shell.execute_reply.started": "2022-03-17T05:17:26.294015Z"
    },
    "papermill": {
     "duration": 0.120917,
     "end_time": "2022-03-17T05:56:30.419006",
     "exception": false,
     "start_time": "2022-03-17T05:56:30.298089",
     "status": "completed"
    },
    "tags": []
   },
   "outputs": [
    {
     "data": {
      "text/plain": [
       "{'solver': 'liblinear', 'C': 0.23357214690901212}"
      ]
     },
     "execution_count": 29,
     "metadata": {},
     "output_type": "execute_result"
    }
   ],
   "source": [
    "rs_log_reg.best_params_"
   ]
  },
  {
   "cell_type": "code",
   "execution_count": 30,
   "id": "ac530d88",
   "metadata": {
    "execution": {
     "iopub.execute_input": "2022-03-17T05:56:30.650114Z",
     "iopub.status.busy": "2022-03-17T05:56:30.647740Z",
     "iopub.status.idle": "2022-03-17T05:56:30.654592Z",
     "shell.execute_reply": "2022-03-17T05:56:30.653899Z",
     "shell.execute_reply.started": "2022-03-17T05:23:07.437036Z"
    },
    "papermill": {
     "duration": 0.122982,
     "end_time": "2022-03-17T05:56:30.654774",
     "exception": false,
     "start_time": "2022-03-17T05:56:30.531792",
     "status": "completed"
    },
    "tags": []
   },
   "outputs": [],
   "source": [
    "rs_lr_score = rs_log_reg.score(X_test,y_test)"
   ]
  },
  {
   "cell_type": "code",
   "execution_count": 31,
   "id": "420f827d",
   "metadata": {
    "execution": {
     "iopub.execute_input": "2022-03-17T05:56:30.888426Z",
     "iopub.status.busy": "2022-03-17T05:56:30.887799Z",
     "iopub.status.idle": "2022-03-17T05:57:31.594115Z",
     "shell.execute_reply": "2022-03-17T05:57:31.594640Z",
     "shell.execute_reply.started": "2022-03-17T05:17:26.316588Z"
    },
    "papermill": {
     "duration": 60.826093,
     "end_time": "2022-03-17T05:57:31.594828",
     "exception": false,
     "start_time": "2022-03-17T05:56:30.768735",
     "status": "completed"
    },
    "tags": []
   },
   "outputs": [
    {
     "name": "stdout",
     "output_type": "stream",
     "text": [
      "Fitting 5 folds for each of 20 candidates, totalling 100 fits\n"
     ]
    },
    {
     "data": {
      "text/plain": [
       "RandomizedSearchCV(cv=5, estimator=RandomForestClassifier(), n_iter=20,\n",
       "                   param_distributions={'max_depth': [None, 3, 5, 10],\n",
       "                                        'min_samples_leaf': array([ 1,  3,  5,  7,  9, 11, 13, 15, 17, 19]),\n",
       "                                        'min_samples_split': array([ 2,  4,  6,  8, 10, 12, 14, 16, 18]),\n",
       "                                        'n_estimators': array([ 10,  60, 110, 160, 210, 260, 310, 360, 410, 460, 510, 560, 610,\n",
       "       660, 710, 760, 810, 860, 910, 960])},\n",
       "                   verbose=True)"
      ]
     },
     "execution_count": 31,
     "metadata": {},
     "output_type": "execute_result"
    }
   ],
   "source": [
    "#Tune RF\n",
    "\n",
    "#Set random parameter search for RF\n",
    "np.random.seed(42)\n",
    "rs_rf = RandomizedSearchCV(RandomForestClassifier(),\n",
    "                            param_distributions=rf_grid,\n",
    "                                cv=5,\n",
    "                                n_iter=20,\n",
    "                                verbose=True)\n",
    "#Fit random hyperparameter search model for RF\n",
    "rs_rf.fit(X_train,y_train)"
   ]
  },
  {
   "cell_type": "code",
   "execution_count": 32,
   "id": "3cbafb03",
   "metadata": {
    "execution": {
     "iopub.execute_input": "2022-03-17T05:57:31.829203Z",
     "iopub.status.busy": "2022-03-17T05:57:31.828527Z",
     "iopub.status.idle": "2022-03-17T05:57:31.832161Z",
     "shell.execute_reply": "2022-03-17T05:57:31.831578Z",
     "shell.execute_reply.started": "2022-03-17T05:18:53.869134Z"
    },
    "papermill": {
     "duration": 0.123626,
     "end_time": "2022-03-17T05:57:31.832294",
     "exception": false,
     "start_time": "2022-03-17T05:57:31.708668",
     "status": "completed"
    },
    "tags": []
   },
   "outputs": [
    {
     "data": {
      "text/plain": [
       "{'n_estimators': 210,\n",
       " 'min_samples_split': 4,\n",
       " 'min_samples_leaf': 19,\n",
       " 'max_depth': 3}"
      ]
     },
     "execution_count": 32,
     "metadata": {},
     "output_type": "execute_result"
    }
   ],
   "source": [
    "#Find best hyperparameter\n",
    "rs_rf.best_params_"
   ]
  },
  {
   "cell_type": "code",
   "execution_count": 33,
   "id": "1f4bbe17",
   "metadata": {
    "execution": {
     "iopub.execute_input": "2022-03-17T05:57:32.074055Z",
     "iopub.status.busy": "2022-03-17T05:57:32.068883Z",
     "iopub.status.idle": "2022-03-17T05:57:32.094316Z",
     "shell.execute_reply": "2022-03-17T05:57:32.093710Z",
     "shell.execute_reply.started": "2022-03-17T05:18:53.877004Z"
    },
    "papermill": {
     "duration": 0.145856,
     "end_time": "2022-03-17T05:57:32.094453",
     "exception": false,
     "start_time": "2022-03-17T05:57:31.948597",
     "status": "completed"
    },
    "tags": []
   },
   "outputs": [],
   "source": [
    "#Evaluate the randomised search RF model\n",
    "rs_rf_score =rs_rf.score(X_test, y_test)"
   ]
  },
  {
   "cell_type": "code",
   "execution_count": 34,
   "id": "1b8897f9",
   "metadata": {
    "execution": {
     "iopub.execute_input": "2022-03-17T05:57:32.327305Z",
     "iopub.status.busy": "2022-03-17T05:57:32.326233Z",
     "iopub.status.idle": "2022-03-17T05:57:32.331225Z",
     "shell.execute_reply": "2022-03-17T05:57:32.330721Z",
     "shell.execute_reply.started": "2022-03-17T05:18:53.917904Z"
    },
    "papermill": {
     "duration": 0.123185,
     "end_time": "2022-03-17T05:57:32.331372",
     "exception": false,
     "start_time": "2022-03-17T05:57:32.208187",
     "status": "completed"
    },
    "tags": []
   },
   "outputs": [
    {
     "data": {
      "text/plain": [
       "{'Logistic Regression': 0.8852459016393442,\n",
       " 'KNN': 0.6885245901639344,\n",
       " 'Random Forest': 0.8360655737704918}"
      ]
     },
     "execution_count": 34,
     "metadata": {},
     "output_type": "execute_result"
    }
   ],
   "source": [
    "#default model scores\n",
    "model_scores"
   ]
  },
  {
   "cell_type": "markdown",
   "id": "4cc4a706",
   "metadata": {
    "papermill": {
     "duration": 0.114858,
     "end_time": "2022-03-17T05:57:32.560504",
     "exception": false,
     "start_time": "2022-03-17T05:57:32.445646",
     "status": "completed"
    },
    "tags": []
   },
   "source": [
    "By using RandomizedSearchCV, the performance of random forest model has improved. But logistic regression model's performance is still higher."
   ]
  },
  {
   "cell_type": "markdown",
   "id": "daf9d53a",
   "metadata": {
    "papermill": {
     "duration": 0.093939,
     "end_time": "2022-03-17T05:57:32.768266",
     "exception": false,
     "start_time": "2022-03-17T05:57:32.674327",
     "status": "completed"
    },
    "tags": []
   },
   "source": [
    "### 4.2.3 Hyperparameter Tuning with GridSearchCV\n",
    "Tune: \n",
    "* LogisticRegression()"
   ]
  },
  {
   "cell_type": "code",
   "execution_count": 35,
   "id": "82910668",
   "metadata": {
    "execution": {
     "iopub.execute_input": "2022-03-17T05:57:32.974205Z",
     "iopub.status.busy": "2022-03-17T05:57:32.973499Z",
     "iopub.status.idle": "2022-03-17T05:57:33.868928Z",
     "shell.execute_reply": "2022-03-17T05:57:33.869563Z",
     "shell.execute_reply.started": "2022-03-17T05:18:53.926515Z"
    },
    "papermill": {
     "duration": 1.025516,
     "end_time": "2022-03-17T05:57:33.869799",
     "exception": false,
     "start_time": "2022-03-17T05:57:32.844283",
     "status": "completed"
    },
    "tags": []
   },
   "outputs": [
    {
     "name": "stdout",
     "output_type": "stream",
     "text": [
      "Fitting 5 folds for each of 30 candidates, totalling 150 fits\n"
     ]
    },
    {
     "data": {
      "text/plain": [
       "GridSearchCV(cv=5, estimator=LogisticRegression(),\n",
       "             param_grid={'C': array([1.00000000e-04, 1.88739182e-04, 3.56224789e-04, 6.72335754e-04,\n",
       "       1.26896100e-03, 2.39502662e-03, 4.52035366e-03, 8.53167852e-03,\n",
       "       1.61026203e-02, 3.03919538e-02, 5.73615251e-02, 1.08263673e-01,\n",
       "       2.04335972e-01, 3.85662042e-01, 7.27895384e-01, 1.37382380e+00,\n",
       "       2.59294380e+00, 4.89390092e+00, 9.23670857e+00, 1.74332882e+01,\n",
       "       3.29034456e+01, 6.21016942e+01, 1.17210230e+02, 2.21221629e+02,\n",
       "       4.17531894e+02, 7.88046282e+02, 1.48735211e+03, 2.80721620e+03,\n",
       "       5.29831691e+03, 1.00000000e+04]),\n",
       "                         'solver': ['liblinear']},\n",
       "             verbose=True)"
      ]
     },
     "execution_count": 35,
     "metadata": {},
     "output_type": "execute_result"
    }
   ],
   "source": [
    "#Different hyperparameters for LR model\n",
    "log_reg_grid = {\"C\": np.logspace(-4,4,30),\n",
    "               \"solver\": [\"liblinear\"]}\n",
    "\n",
    "#Setup grid hyperparameter for LR\n",
    "gs_log_reg = GridSearchCV(LogisticRegression(),\n",
    "                         param_grid=log_reg_grid,\n",
    "                         cv=5,\n",
    "                         verbose=True)\n",
    "\n",
    "#Fit into model\n",
    "gs_log_reg.fit(X_train,y_train)"
   ]
  },
  {
   "cell_type": "code",
   "execution_count": 36,
   "id": "3eef4eda",
   "metadata": {
    "execution": {
     "iopub.execute_input": "2022-03-17T05:57:34.105842Z",
     "iopub.status.busy": "2022-03-17T05:57:34.104938Z",
     "iopub.status.idle": "2022-03-17T05:57:34.108883Z",
     "shell.execute_reply": "2022-03-17T05:57:34.109350Z",
     "shell.execute_reply.started": "2022-03-17T05:18:54.76089Z"
    },
    "papermill": {
     "duration": 0.123626,
     "end_time": "2022-03-17T05:57:34.109516",
     "exception": false,
     "start_time": "2022-03-17T05:57:33.985890",
     "status": "completed"
    },
    "tags": []
   },
   "outputs": [
    {
     "data": {
      "text/plain": [
       "{'C': 0.20433597178569418, 'solver': 'liblinear'}"
      ]
     },
     "execution_count": 36,
     "metadata": {},
     "output_type": "execute_result"
    }
   ],
   "source": [
    "#check best hyperparameters\n",
    "gs_log_reg.best_params_"
   ]
  },
  {
   "cell_type": "code",
   "execution_count": 37,
   "id": "2c189b61",
   "metadata": {
    "execution": {
     "iopub.execute_input": "2022-03-17T05:57:34.349722Z",
     "iopub.status.busy": "2022-03-17T05:57:34.345112Z",
     "iopub.status.idle": "2022-03-17T05:57:34.351432Z",
     "shell.execute_reply": "2022-03-17T05:57:34.351963Z",
     "shell.execute_reply.started": "2022-03-17T05:22:33.992321Z"
    },
    "papermill": {
     "duration": 0.126533,
     "end_time": "2022-03-17T05:57:34.352132",
     "exception": false,
     "start_time": "2022-03-17T05:57:34.225599",
     "status": "completed"
    },
    "tags": []
   },
   "outputs": [],
   "source": [
    "#Evaluate grid search LR model\n",
    "gs_lr_score = gs_log_reg.score(X_test,y_test)"
   ]
  },
  {
   "cell_type": "code",
   "execution_count": 38,
   "id": "fefd98bd",
   "metadata": {
    "execution": {
     "iopub.execute_input": "2022-03-17T05:57:34.588790Z",
     "iopub.status.busy": "2022-03-17T05:57:34.588094Z",
     "iopub.status.idle": "2022-03-17T05:57:34.730168Z",
     "shell.execute_reply": "2022-03-17T05:57:34.730641Z",
     "shell.execute_reply.started": "2022-03-17T05:34:11.915497Z"
    },
    "papermill": {
     "duration": 0.262299,
     "end_time": "2022-03-17T05:57:34.730825",
     "exception": false,
     "start_time": "2022-03-17T05:57:34.468526",
     "status": "completed"
    },
    "tags": []
   },
   "outputs": [
    {
     "data": {
      "text/plain": [
       "<AxesSubplot:>"
      ]
     },
     "execution_count": 38,
     "metadata": {},
     "output_type": "execute_result"
    },
    {
     "data": {
      "image/png": "[encoded data removed]",
      "text/plain": [
       "<Figure size 432x288 with 1 Axes>"
      ]
     },
     "metadata": {
      "needs_background": "light"
     },
     "output_type": "display_data"
    }
   ],
   "source": [
    "model_scores.update( [('RandomizedS LR',rs_lr_score),('RandomizedS RF',rs_rf_score),('GridS LR',gs_lr_score)] )\n",
    "model_compare2 = pd.DataFrame(model_scores, index=[\"accuracy\"])\n",
    "model_compare2.T.plot.bar(legend=False)"
   ]
  },
  {
   "cell_type": "markdown",
   "id": "a5012df2",
   "metadata": {
    "papermill": {
     "duration": 0.078192,
     "end_time": "2022-03-17T05:57:34.891310",
     "exception": false,
     "start_time": "2022-03-17T05:57:34.813118",
     "status": "completed"
    },
    "tags": []
   },
   "source": [
    "Logistic Regression has the same scores for all of the different hyperparameter tuning own models. \n",
    "\n",
    "Out of three different classifiers, Logistic Regression has the best performance score during training stage."
   ]
  },
  {
   "cell_type": "markdown",
   "id": "7ae3b542",
   "metadata": {
    "papermill": {
     "duration": 0.076957,
     "end_time": "2022-03-17T05:57:35.046801",
     "exception": false,
     "start_time": "2022-03-17T05:57:34.969844",
     "status": "completed"
    },
    "tags": []
   },
   "source": [
    "## 4.3 Evaluationg our tuned machine learning classifier, beyond accuracy\n",
    "\n",
    "* ROC curve and AUC score\n",
    "* Confusion matrix\n",
    "* Classification report\n",
    "* Precision\n",
    "* Recall\n",
    "* F1-score\n",
    "\n",
    "... would be great if corss-validation was used where possible\n",
    "\n",
    "To make comparisons and evaluate our trained model, first we need to make predictions."
   ]
  },
  {
   "cell_type": "code",
   "execution_count": 39,
   "id": "ef02b9a3",
   "metadata": {
    "execution": {
     "iopub.execute_input": "2022-03-17T05:57:35.207955Z",
     "iopub.status.busy": "2022-03-17T05:57:35.207423Z",
     "iopub.status.idle": "2022-03-17T05:57:35.209740Z",
     "shell.execute_reply": "2022-03-17T05:57:35.210179Z",
     "shell.execute_reply.started": "2022-03-17T05:32:27.967881Z"
    },
    "papermill": {
     "duration": 0.086322,
     "end_time": "2022-03-17T05:57:35.210330",
     "exception": false,
     "start_time": "2022-03-17T05:57:35.124008",
     "status": "completed"
    },
    "tags": []
   },
   "outputs": [],
   "source": [
    "#Make predictions with tuned model\n",
    "y_preds = gs_log_reg.predict(X_test)"
   ]
  },
  {
   "cell_type": "code",
   "execution_count": 40,
   "id": "29132920",
   "metadata": {
    "execution": {
     "iopub.execute_input": "2022-03-17T05:57:35.368949Z",
     "iopub.status.busy": "2022-03-17T05:57:35.368440Z",
     "iopub.status.idle": "2022-03-17T05:57:35.373552Z",
     "shell.execute_reply": "2022-03-17T05:57:35.374031Z",
     "shell.execute_reply.started": "2022-03-17T05:32:29.543346Z"
    },
    "papermill": {
     "duration": 0.085878,
     "end_time": "2022-03-17T05:57:35.374165",
     "exception": false,
     "start_time": "2022-03-17T05:57:35.288287",
     "status": "completed"
    },
    "tags": []
   },
   "outputs": [
    {
     "data": {
      "text/plain": [
       "array([0, 1, 1, 0, 1, 1, 1, 0, 0, 1, 1, 0, 1, 0, 1, 1, 1, 0, 0, 0, 1, 0,\n",
       "       0, 1, 1, 1, 1, 1, 0, 1, 0, 0, 0, 0, 1, 0, 1, 1, 1, 1, 1, 1, 1, 1,\n",
       "       1, 0, 1, 1, 0, 0, 0, 0, 1, 1, 0, 0, 0, 1, 0, 0, 0])"
      ]
     },
     "execution_count": 40,
     "metadata": {},
     "output_type": "execute_result"
    }
   ],
   "source": [
    "y_preds"
   ]
  },
  {
   "cell_type": "code",
   "execution_count": 41,
   "id": "bef3fcbc",
   "metadata": {
    "execution": {
     "iopub.execute_input": "2022-03-17T05:57:35.533470Z",
     "iopub.status.busy": "2022-03-17T05:57:35.532972Z",
     "iopub.status.idle": "2022-03-17T05:57:35.715555Z",
     "shell.execute_reply": "2022-03-17T05:57:35.714967Z",
     "shell.execute_reply.started": "2022-03-17T05:32:30.574705Z"
    },
    "papermill": {
     "duration": 0.263208,
     "end_time": "2022-03-17T05:57:35.715726",
     "exception": false,
     "start_time": "2022-03-17T05:57:35.452518",
     "status": "completed"
    },
    "tags": []
   },
   "outputs": [
    {
     "name": "stderr",
     "output_type": "stream",
     "text": [
      "/opt/conda/lib/python3.7/site-packages/sklearn/utils/deprecation.py:87: FutureWarning: Function plot_roc_curve is deprecated; Function `plot_roc_curve` is deprecated in 1.0 and will be removed in 1.2. Use one of the class methods: RocCurveDisplay.from_predictions or RocCurveDisplay.from_estimator.\n",
      "  warnings.warn(msg, category=FutureWarning)\n"
     ]
    },
    {
     "data": {
      "text/plain": [
       "<sklearn.metrics._plot.roc_curve.RocCurveDisplay at 0x7febb0c5a210>"
      ]
     },
     "execution_count": 41,
     "metadata": {},
     "output_type": "execute_result"
    },
    {
     "data": {
      "image/png": "[encoded data removed]",
      "text/plain": [
       "<Figure size 432x288 with 1 Axes>"
      ]
     },
     "metadata": {
      "needs_background": "light"
     },
     "output_type": "display_data"
    }
   ],
   "source": [
    "#Plot ROC curve and calculate AUC metric\n",
    "plot_roc_curve(gs_log_reg, X_test, y_test)"
   ]
  },
  {
   "cell_type": "code",
   "execution_count": 42,
   "id": "99465b76",
   "metadata": {
    "execution": {
     "iopub.execute_input": "2022-03-17T05:57:35.961319Z",
     "iopub.status.busy": "2022-03-17T05:57:35.960450Z",
     "iopub.status.idle": "2022-03-17T05:57:35.968080Z",
     "shell.execute_reply": "2022-03-17T05:57:35.967237Z",
     "shell.execute_reply.started": "2022-03-17T05:32:37.456559Z"
    },
    "papermill": {
     "duration": 0.131752,
     "end_time": "2022-03-17T05:57:35.968244",
     "exception": false,
     "start_time": "2022-03-17T05:57:35.836492",
     "status": "completed"
    },
    "tags": []
   },
   "outputs": [
    {
     "name": "stdout",
     "output_type": "stream",
     "text": [
      "[[25  4]\n",
      " [ 3 29]]\n"
     ]
    }
   ],
   "source": [
    "#Confusion matrix\n",
    "print(confusion_matrix(y_test, y_preds))"
   ]
  },
  {
   "cell_type": "code",
   "execution_count": 43,
   "id": "95110ce2",
   "metadata": {
    "execution": {
     "iopub.execute_input": "2022-03-17T05:57:36.248648Z",
     "iopub.status.busy": "2022-03-17T05:57:36.221011Z",
     "iopub.status.idle": "2022-03-17T05:57:36.356016Z",
     "shell.execute_reply": "2022-03-17T05:57:36.356775Z",
     "shell.execute_reply.started": "2022-03-17T05:32:38.31946Z"
    },
    "papermill": {
     "duration": 0.265359,
     "end_time": "2022-03-17T05:57:36.356966",
     "exception": false,
     "start_time": "2022-03-17T05:57:36.091607",
     "status": "completed"
    },
    "tags": []
   },
   "outputs": [
    {
     "data": {
      "image/png": "[encoded data removed]",
      "text/plain": [
       "<Figure size 216x216 with 1 Axes>"
      ]
     },
     "metadata": {},
     "output_type": "display_data"
    }
   ],
   "source": [
    "sns.set(font_scale=1.5)\n",
    "\n",
    "def plot_conf_mat(y_test,y_preds):\n",
    "    \"\"\"\n",
    "    Plot a nice looking confusion matrix using Seaborn's heatmap\n",
    "    \"\"\"\n",
    "    fig,ax = plt.subplots(figsize=(3,3))\n",
    "    ax=sns.heatmap(confusion_matrix(y_test,y_preds),\n",
    "                  annot=True,\n",
    "                  cbar=False)\n",
    "    plt.xlabel(\"Predicted label\")\n",
    "    plt.ylabel(\"True label\")\n",
    "    \n",
    "    bottom, top = ax.get_ylim()\n",
    "    ax.set_ylim(bottom + 0.5, top - 0.5)\n",
    "    \n",
    "plot_conf_mat(y_test, y_preds)"
   ]
  },
  {
   "cell_type": "markdown",
   "id": "e8ab4834",
   "metadata": {
    "papermill": {
     "duration": 0.121145,
     "end_time": "2022-03-17T05:57:36.601316",
     "exception": false,
     "start_time": "2022-03-17T05:57:36.480171",
     "status": "completed"
    },
    "tags": []
   },
   "source": [
    "### 4.3.1 Classification report\n",
    "Cross-validated precision, recall and f1-score."
   ]
  },
  {
   "cell_type": "code",
   "execution_count": 44,
   "id": "0c41cb7a",
   "metadata": {
    "execution": {
     "iopub.execute_input": "2022-03-17T05:57:36.849269Z",
     "iopub.status.busy": "2022-03-17T05:57:36.848280Z",
     "iopub.status.idle": "2022-03-17T05:57:36.857276Z",
     "shell.execute_reply": "2022-03-17T05:57:36.856677Z",
     "shell.execute_reply.started": "2022-03-17T05:32:40.553018Z"
    },
    "papermill": {
     "duration": 0.133502,
     "end_time": "2022-03-17T05:57:36.857406",
     "exception": false,
     "start_time": "2022-03-17T05:57:36.723904",
     "status": "completed"
    },
    "scrolled": true,
    "tags": []
   },
   "outputs": [
    {
     "name": "stdout",
     "output_type": "stream",
     "text": [
      "              precision    recall  f1-score   support\n",
      "\n",
      "           0       0.89      0.86      0.88        29\n",
      "           1       0.88      0.91      0.89        32\n",
      "\n",
      "    accuracy                           0.89        61\n",
      "   macro avg       0.89      0.88      0.88        61\n",
      "weighted avg       0.89      0.89      0.89        61\n",
      "\n"
     ]
    }
   ],
   "source": [
    "#Using only one split\n",
    "print(classification_report(y_test,y_preds))"
   ]
  },
  {
   "cell_type": "markdown",
   "id": "88fbb366",
   "metadata": {
    "papermill": {
     "duration": 0.120768,
     "end_time": "2022-03-17T05:57:37.098002",
     "exception": false,
     "start_time": "2022-03-17T05:57:36.977234",
     "status": "completed"
    },
    "tags": []
   },
   "source": [
    "#### Calculate evaluation metrics using cross-validation\n",
    "using cross_val_score()"
   ]
  },
  {
   "cell_type": "code",
   "execution_count": 45,
   "id": "d111fc32",
   "metadata": {
    "execution": {
     "iopub.execute_input": "2022-03-17T05:57:37.348472Z",
     "iopub.status.busy": "2022-03-17T05:57:37.347827Z",
     "iopub.status.idle": "2022-03-17T05:57:37.350885Z",
     "shell.execute_reply": "2022-03-17T05:57:37.351472Z",
     "shell.execute_reply.started": "2022-03-17T05:32:42.35879Z"
    },
    "papermill": {
     "duration": 0.129561,
     "end_time": "2022-03-17T05:57:37.351638",
     "exception": false,
     "start_time": "2022-03-17T05:57:37.222077",
     "status": "completed"
    },
    "tags": []
   },
   "outputs": [
    {
     "data": {
      "text/plain": [
       "{'C': 0.20433597178569418, 'solver': 'liblinear'}"
      ]
     },
     "execution_count": 45,
     "metadata": {},
     "output_type": "execute_result"
    }
   ],
   "source": [
    "#Check best hyperparameters\n",
    "gs_log_reg.best_params_"
   ]
  },
  {
   "cell_type": "code",
   "execution_count": 46,
   "id": "3278d749",
   "metadata": {
    "execution": {
     "iopub.execute_input": "2022-03-17T05:57:37.597195Z",
     "iopub.status.busy": "2022-03-17T05:57:37.596522Z",
     "iopub.status.idle": "2022-03-17T05:57:37.599863Z",
     "shell.execute_reply": "2022-03-17T05:57:37.600411Z",
     "shell.execute_reply.started": "2022-03-17T05:32:48.159694Z"
    },
    "papermill": {
     "duration": 0.127594,
     "end_time": "2022-03-17T05:57:37.600589",
     "exception": false,
     "start_time": "2022-03-17T05:57:37.472995",
     "status": "completed"
    },
    "tags": []
   },
   "outputs": [],
   "source": [
    "#Create a new classifier with best parameters\n",
    "clf = LogisticRegression(C=0.20433597178569418,\n",
    "                        solver=\"liblinear\")"
   ]
  },
  {
   "cell_type": "code",
   "execution_count": 47,
   "id": "f6c6ebed",
   "metadata": {
    "execution": {
     "iopub.execute_input": "2022-03-17T05:57:37.847660Z",
     "iopub.status.busy": "2022-03-17T05:57:37.846951Z",
     "iopub.status.idle": "2022-03-17T05:57:37.874131Z",
     "shell.execute_reply": "2022-03-17T05:57:37.874642Z",
     "shell.execute_reply.started": "2022-03-17T05:32:53.775627Z"
    },
    "papermill": {
     "duration": 0.152454,
     "end_time": "2022-03-17T05:57:37.874819",
     "exception": false,
     "start_time": "2022-03-17T05:57:37.722365",
     "status": "completed"
    },
    "tags": []
   },
   "outputs": [
    {
     "data": {
      "text/plain": [
       "array([0.81967213, 0.90163934, 0.86885246, 0.88333333, 0.75      ])"
      ]
     },
     "execution_count": 47,
     "metadata": {},
     "output_type": "execute_result"
    }
   ],
   "source": [
    "#Cross validated accuracy\n",
    "cv_acc= cross_val_score(clf,\n",
    "                       X,\n",
    "                       y,\n",
    "                       cv=5,\n",
    "                       scoring=\"accuracy\")\n",
    "cv_acc"
   ]
  },
  {
   "cell_type": "code",
   "execution_count": 48,
   "id": "ff0ef178",
   "metadata": {
    "execution": {
     "iopub.execute_input": "2022-03-17T05:57:38.070991Z",
     "iopub.status.busy": "2022-03-17T05:57:38.070523Z",
     "iopub.status.idle": "2022-03-17T05:57:38.074640Z",
     "shell.execute_reply": "2022-03-17T05:57:38.075088Z",
     "shell.execute_reply.started": "2022-03-17T05:32:55.248292Z"
    },
    "papermill": {
     "duration": 0.089037,
     "end_time": "2022-03-17T05:57:38.075225",
     "exception": false,
     "start_time": "2022-03-17T05:57:37.986188",
     "status": "completed"
    },
    "tags": []
   },
   "outputs": [
    {
     "data": {
      "text/plain": [
       "0.8446994535519124"
      ]
     },
     "execution_count": 48,
     "metadata": {},
     "output_type": "execute_result"
    }
   ],
   "source": [
    "cv_acc = np.mean(cv_acc)\n",
    "cv_acc"
   ]
  },
  {
   "cell_type": "code",
   "execution_count": 49,
   "id": "e0f007de",
   "metadata": {
    "execution": {
     "iopub.execute_input": "2022-03-17T05:57:38.241518Z",
     "iopub.status.busy": "2022-03-17T05:57:38.241002Z",
     "iopub.status.idle": "2022-03-17T05:57:38.273547Z",
     "shell.execute_reply": "2022-03-17T05:57:38.273097Z",
     "shell.execute_reply.started": "2022-03-17T05:32:58.383464Z"
    },
    "papermill": {
     "duration": 0.117368,
     "end_time": "2022-03-17T05:57:38.273662",
     "exception": false,
     "start_time": "2022-03-17T05:57:38.156294",
     "status": "completed"
    },
    "tags": []
   },
   "outputs": [
    {
     "data": {
      "text/plain": [
       "0.8207936507936507"
      ]
     },
     "execution_count": 49,
     "metadata": {},
     "output_type": "execute_result"
    }
   ],
   "source": [
    "#Cross-validated precision\n",
    "cv_precision= cross_val_score(clf,\n",
    "                       X,\n",
    "                       y,\n",
    "                       cv=5,\n",
    "                       scoring=\"precision\")\n",
    "cv_precision = np.mean(cv_precision)\n",
    "cv_precision"
   ]
  },
  {
   "cell_type": "code",
   "execution_count": 50,
   "id": "afe0ab85",
   "metadata": {
    "execution": {
     "iopub.execute_input": "2022-03-17T05:57:38.443479Z",
     "iopub.status.busy": "2022-03-17T05:57:38.442982Z",
     "iopub.status.idle": "2022-03-17T05:57:38.478912Z",
     "shell.execute_reply": "2022-03-17T05:57:38.479276Z",
     "shell.execute_reply.started": "2022-03-17T05:33:02.376157Z"
    },
    "papermill": {
     "duration": 0.122213,
     "end_time": "2022-03-17T05:57:38.479433",
     "exception": false,
     "start_time": "2022-03-17T05:57:38.357220",
     "status": "completed"
    },
    "tags": []
   },
   "outputs": [
    {
     "data": {
      "text/plain": [
       "0.9212121212121213"
      ]
     },
     "execution_count": 50,
     "metadata": {},
     "output_type": "execute_result"
    }
   ],
   "source": [
    "#Cross-validated recall\n",
    "cv_recall= cross_val_score(clf,\n",
    "                       X,\n",
    "                       y,\n",
    "                       cv=5,\n",
    "                       scoring=\"recall\")\n",
    "cv_recall = np.mean(cv_recall)\n",
    "cv_recall"
   ]
  },
  {
   "cell_type": "code",
   "execution_count": 51,
   "id": "4fa45903",
   "metadata": {
    "execution": {
     "iopub.execute_input": "2022-03-17T05:57:38.650436Z",
     "iopub.status.busy": "2022-03-17T05:57:38.647812Z",
     "iopub.status.idle": "2022-03-17T05:57:38.683014Z",
     "shell.execute_reply": "2022-03-17T05:57:38.683395Z",
     "shell.execute_reply.started": "2022-03-17T05:33:03.287693Z"
    },
    "papermill": {
     "duration": 0.121451,
     "end_time": "2022-03-17T05:57:38.683545",
     "exception": false,
     "start_time": "2022-03-17T05:57:38.562094",
     "status": "completed"
    },
    "tags": []
   },
   "outputs": [
    {
     "data": {
      "text/plain": [
       "0.8673007976269721"
      ]
     },
     "execution_count": 51,
     "metadata": {},
     "output_type": "execute_result"
    }
   ],
   "source": [
    "#Cross-validated f1\n",
    "cv_f1= cross_val_score(clf,\n",
    "                       X,\n",
    "                       y,\n",
    "                       cv=5,\n",
    "                       scoring=\"f1\")\n",
    "cv_f1 = np.mean(cv_f1)\n",
    "cv_f1"
   ]
  },
  {
   "cell_type": "code",
   "execution_count": 52,
   "id": "f441925e",
   "metadata": {
    "execution": {
     "iopub.execute_input": "2022-03-17T05:57:38.852789Z",
     "iopub.status.busy": "2022-03-17T05:57:38.852256Z",
     "iopub.status.idle": "2022-03-17T05:57:39.020083Z",
     "shell.execute_reply": "2022-03-17T05:57:39.019458Z",
     "shell.execute_reply.started": "2022-03-17T05:33:08.575952Z"
    },
    "papermill": {
     "duration": 0.253572,
     "end_time": "2022-03-17T05:57:39.020221",
     "exception": false,
     "start_time": "2022-03-17T05:57:38.766649",
     "status": "completed"
    },
    "tags": []
   },
   "outputs": [
    {
     "data": {
      "image/png": "[encoded data removed]",
      "text/plain": [
       "<Figure size 432x288 with 1 Axes>"
      ]
     },
     "metadata": {},
     "output_type": "display_data"
    }
   ],
   "source": [
    "#Visualise cross-validated metrics\n",
    "cv_metrics = pd.DataFrame({\"Accuracy\": cv_acc,\n",
    "                          \"Precision\": cv_precision,\n",
    "                          \"Recall\": cv_recall,\n",
    "                          \"F1\": cv_f1},\n",
    "                          index=[0])\n",
    "\n",
    "cv_metrics.T.plot.bar(title=\"Cross-validated classification metrics\",\n",
    "                      legend=False);"
   ]
  },
  {
   "cell_type": "markdown",
   "id": "bf08645c",
   "metadata": {
    "papermill": {
     "duration": 0.125804,
     "end_time": "2022-03-17T05:57:39.271856",
     "exception": false,
     "start_time": "2022-03-17T05:57:39.146052",
     "status": "completed"
    },
    "tags": []
   },
   "source": [
    "# 5.0 Experimentation\n",
    "\n",
    "For furthur experimentation and training:\n",
    "\n",
    "* Collect more data?\n",
    "* Try a better model? Like CatBoost or XGBoost?\n",
    "* Improve the current models? "
   ]
  },
  {
   "cell_type": "markdown",
   "id": "377108fa",
   "metadata": {
    "papermill": {
     "duration": 0.087861,
     "end_time": "2022-03-17T05:57:39.486102",
     "exception": false,
     "start_time": "2022-03-17T05:57:39.398241",
     "status": "completed"
    },
    "tags": []
   },
   "source": [
    "## 5.1 Feature Importance\n",
    "\n",
    "Feature importance is another as asking, \"which features contributed most to the outcome of the model and how did they contribute?\"\n",
    "\n",
    "Finding feature importance is different for each machine learning model.\n",
    "\n",
    "We may refer to feature importance for future collecting data.\n"
   ]
  },
  {
   "cell_type": "code",
   "execution_count": 53,
   "id": "8f640cf6",
   "metadata": {
    "execution": {
     "iopub.execute_input": "2022-03-17T05:57:39.665176Z",
     "iopub.status.busy": "2022-03-17T05:57:39.664625Z",
     "iopub.status.idle": "2022-03-17T05:57:39.667904Z",
     "shell.execute_reply": "2022-03-17T05:57:39.668358Z",
     "shell.execute_reply.started": "2022-03-17T05:46:40.290777Z"
    },
    "papermill": {
     "duration": 0.096192,
     "end_time": "2022-03-17T05:57:39.668502",
     "exception": false,
     "start_time": "2022-03-17T05:57:39.572310",
     "status": "completed"
    },
    "tags": []
   },
   "outputs": [],
   "source": [
    "#Fit an instance of LR\n",
    "clf = LogisticRegression(C=0.20433597178569418,\n",
    "                        solver=\"liblinear\")\n",
    "\n",
    "clf.fit(X_train,y_train);"
   ]
  },
  {
   "cell_type": "code",
   "execution_count": 54,
   "id": "431bccb4",
   "metadata": {
    "execution": {
     "iopub.execute_input": "2022-03-17T05:57:39.839295Z",
     "iopub.status.busy": "2022-03-17T05:57:39.838766Z",
     "iopub.status.idle": "2022-03-17T05:57:39.843607Z",
     "shell.execute_reply": "2022-03-17T05:57:39.844031Z",
     "shell.execute_reply.started": "2022-03-17T05:46:42.34742Z"
    },
    "papermill": {
     "duration": 0.093138,
     "end_time": "2022-03-17T05:57:39.844165",
     "exception": false,
     "start_time": "2022-03-17T05:57:39.751027",
     "status": "completed"
    },
    "tags": []
   },
   "outputs": [
    {
     "data": {
      "text/plain": [
       "array([[ 0.00320769, -0.86062049,  0.66001432, -0.01155971, -0.00166496,\n",
       "         0.04017236,  0.31603405,  0.02458922, -0.60470171, -0.56795456,\n",
       "         0.45085392, -0.63733328, -0.67555094]])"
      ]
     },
     "execution_count": 54,
     "metadata": {},
     "output_type": "execute_result"
    }
   ],
   "source": [
    "#Check coef_\n",
    "clf.coef_"
   ]
  },
  {
   "cell_type": "code",
   "execution_count": 55,
   "id": "95506031",
   "metadata": {
    "execution": {
     "iopub.execute_input": "2022-03-17T05:57:40.016032Z",
     "iopub.status.busy": "2022-03-17T05:57:40.015531Z",
     "iopub.status.idle": "2022-03-17T05:57:40.018596Z",
     "shell.execute_reply": "2022-03-17T05:57:40.018120Z",
     "shell.execute_reply.started": "2022-03-17T05:46:43.523974Z"
    },
    "papermill": {
     "duration": 0.091402,
     "end_time": "2022-03-17T05:57:40.018757",
     "exception": false,
     "start_time": "2022-03-17T05:57:39.927355",
     "status": "completed"
    },
    "tags": []
   },
   "outputs": [
    {
     "data": {
      "text/plain": [
       "{'age': 0.0032076883508599633,\n",
       " 'sex': -0.8606204883695241,\n",
       " 'cp': 0.660014324982524,\n",
       " 'trestbps': -0.01155970600550047,\n",
       " 'chol': -0.0016649614843449207,\n",
       " 'fbs': 0.040172360271308105,\n",
       " 'restecg': 0.31603405294617176,\n",
       " 'thalach': 0.02458922341328129,\n",
       " 'exang': -0.604701713592625,\n",
       " 'oldpeak': -0.5679545646616215,\n",
       " 'slope': 0.4508539209693025,\n",
       " 'ca': -0.6373332766360461,\n",
       " 'thal': -0.6755509369619848}"
      ]
     },
     "execution_count": 55,
     "metadata": {},
     "output_type": "execute_result"
    }
   ],
   "source": [
    "#Match coef to columns\n",
    "feature_dict = dict(zip(df.columns, list(clf.coef_[0])))\n",
    "feature_dict"
   ]
  },
  {
   "cell_type": "code",
   "execution_count": 56,
   "id": "66ba76c7",
   "metadata": {
    "execution": {
     "iopub.execute_input": "2022-03-17T05:57:40.190602Z",
     "iopub.status.busy": "2022-03-17T05:57:40.190087Z",
     "iopub.status.idle": "2022-03-17T05:57:40.451483Z",
     "shell.execute_reply": "2022-03-17T05:57:40.451857Z",
     "shell.execute_reply.started": "2022-03-17T05:46:46.033557Z"
    },
    "papermill": {
     "duration": 0.348767,
     "end_time": "2022-03-17T05:57:40.451991",
     "exception": false,
     "start_time": "2022-03-17T05:57:40.103224",
     "status": "completed"
    },
    "scrolled": true,
    "tags": []
   },
   "outputs": [
    {
     "data": {
      "text/plain": [
       "<AxesSubplot:title={'center':'Feature Importance'}>"
      ]
     },
     "execution_count": 56,
     "metadata": {},
     "output_type": "execute_result"
    },
    {
     "data": {
      "image/png": "[encoded data removed]",
      "text/plain": [
       "<Figure size 432x288 with 1 Axes>"
      ]
     },
     "metadata": {},
     "output_type": "display_data"
    }
   ],
   "source": [
    "#Visualise feature importance\n",
    "feature_df = pd.DataFrame(feature_dict,index=[0])\n",
    "feature_df.T.plot.bar(title=\"Feature Importance\",legend=False)"
   ]
  },
  {
   "cell_type": "markdown",
   "id": "a558d978",
   "metadata": {
    "papermill": {
     "duration": 0.083992,
     "end_time": "2022-03-17T05:57:40.621707",
     "exception": false,
     "start_time": "2022-03-17T05:57:40.537715",
     "status": "completed"
    },
    "tags": []
   },
   "source": [
    "Base on the visualisation, \n",
    "* chest pain type(cp)\n",
    "* resting electrocardiographic results(restecg) \n",
    "* slope of the peak exercise ST segment(slope) \n",
    "\n",
    "have strong feature importance.\n",
    "\n",
    "On the other hand, sex has the least feature importance."
   ]
  }
 ],
 "metadata": {
  "kernelspec": {
   "display_name": "Python 3",
   "language": "python",
   "name": "python3"
  },
  "language_info": {
   "codemirror_mode": {
    "name": "ipython",
    "version": 3
   },
   "file_extension": ".py",
   "mimetype": "text/x-python",
   "name": "python",
   "nbconvert_exporter": "python",
   "pygments_lexer": "ipython3",
   "version": "3.7.12"
  },
  "papermill": {
   "default_parameters": {},
   "duration": 94.896629,
   "end_time": "2022-03-17T05:57:41.716926",
   "environment_variables": {},
   "exception": null,
   "input_path": "__notebook__.ipynb",
   "output_path": "__notebook__.ipynb",
   "parameters": {},
   "start_time": "2022-03-17T05:56:06.820297",
   "version": "2.3.3"
  }
 },
 "nbformat": 4,
 "nbformat_minor": 5
}
